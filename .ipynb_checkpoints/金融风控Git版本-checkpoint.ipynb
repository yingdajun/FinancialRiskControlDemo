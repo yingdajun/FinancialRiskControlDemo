{
 "cells": [
  {
   "cell_type": "markdown",
   "metadata": {},
   "source": [
    "# 导入第三方库包"
   ]
  },
  {
   "cell_type": "code",
   "execution_count": 1,
   "metadata": {},
   "outputs": [],
   "source": [
    "import pandas as pd\n",
    "import numpy as np\n",
    "import matplotlib.pyplot as plt\n",
    "import seaborn as sns\n",
    "import datetime\n",
    "import warnings\n",
    "warnings.filterwarnings('ignore')\n",
    "\n",
    "import seaborn as sns\n",
    "\"\"\"\n",
    "sns 相关设置\n",
    "@return:\n",
    "\"\"\"\n",
    "# 声明使用 Seaborn 样式\n",
    "sns.set()\n",
    "# 有五种seaborn的绘图风格，它们分别是：darkgrid, whitegrid, dark, white, ticks。默认的主题是darkgrid。\n",
    "sns.set_style(\"whitegrid\")\n",
    "# 有四个预置的环境，按大小从小到大排列分别为：paper, notebook, talk, poster。其中，notebook是默认的。\n",
    "sns.set_context('talk')\n",
    "# 中文字体设置-黑体\n",
    "plt.rcParams['font.sans-serif'] = ['SimHei']\n",
    "# 解决保存图像是负号'-'显示为方块的问题\n",
    "plt.rcParams['axes.unicode_minus'] = False\n",
    "# 解决Seaborn中文显示问题并调整字体大小\n",
    "sns.set(font='SimHei')\n",
    "\n",
    "import datetime\n",
    "from tqdm import tqdm\n",
    "from sklearn.preprocessing import LabelEncoder\n",
    "from sklearn.feature_selection import SelectKBest\n",
    "from sklearn.feature_selection import chi2\n",
    "from sklearn.preprocessing import MinMaxScaler\n",
    "import xgboost as xgb\n",
    "import lightgbm as lgb\n",
    "from catboost import CatBoostRegressor\n",
    "import warnings\n",
    "from sklearn.model_selection import StratifiedKFold, KFold\n",
    "from sklearn.metrics import accuracy_score, f1_score, roc_auc_score, log_loss\n",
    "warnings.filterwarnings('ignore')\n",
    "import gc"
   ]
  },
  {
   "cell_type": "markdown",
   "metadata": {},
   "source": [
    "# 读取数据"
   ]
  },
  {
   "cell_type": "code",
   "execution_count": 2,
   "metadata": {},
   "outputs": [],
   "source": [
    "data_train = pd.read_csv('./train.csv')"
   ]
  },
  {
   "cell_type": "code",
   "execution_count": 3,
   "metadata": {},
   "outputs": [],
   "source": [
    "data_test_a = pd.read_csv('./testA.csv')"
   ]
  },
  {
   "cell_type": "markdown",
   "metadata": {},
   "source": [
    "# EDA分析"
   ]
  },
  {
   "cell_type": "code",
   "execution_count": 4,
   "metadata": {},
   "outputs": [
    {
     "data": {
      "text/plain": [
       "(800000, 47)"
      ]
     },
     "execution_count": 4,
     "metadata": {},
     "output_type": "execute_result"
    }
   ],
   "source": [
    "data_train.shape"
   ]
  },
  {
   "cell_type": "code",
   "execution_count": 5,
   "metadata": {},
   "outputs": [
    {
     "data": {
      "text/plain": [
       "(200000, 46)"
      ]
     },
     "execution_count": 5,
     "metadata": {},
     "output_type": "execute_result"
    }
   ],
   "source": [
    "data_test_a.shape"
   ]
  },
  {
   "cell_type": "code",
   "execution_count": 6,
   "metadata": {},
   "outputs": [
    {
     "data": {
      "text/html": [
       "<div>\n",
       "<style scoped>\n",
       "    .dataframe tbody tr th:only-of-type {\n",
       "        vertical-align: middle;\n",
       "    }\n",
       "\n",
       "    .dataframe tbody tr th {\n",
       "        vertical-align: top;\n",
       "    }\n",
       "\n",
       "    .dataframe thead th {\n",
       "        text-align: right;\n",
       "    }\n",
       "</style>\n",
       "<table border=\"1\" class=\"dataframe\">\n",
       "  <thead>\n",
       "    <tr style=\"text-align: right;\">\n",
       "      <th></th>\n",
       "      <th>id</th>\n",
       "      <th>loanAmnt</th>\n",
       "      <th>term</th>\n",
       "      <th>interestRate</th>\n",
       "      <th>installment</th>\n",
       "      <th>grade</th>\n",
       "      <th>subGrade</th>\n",
       "      <th>employmentTitle</th>\n",
       "      <th>employmentLength</th>\n",
       "      <th>homeOwnership</th>\n",
       "      <th>...</th>\n",
       "      <th>n5</th>\n",
       "      <th>n6</th>\n",
       "      <th>n7</th>\n",
       "      <th>n8</th>\n",
       "      <th>n9</th>\n",
       "      <th>n10</th>\n",
       "      <th>n11</th>\n",
       "      <th>n12</th>\n",
       "      <th>n13</th>\n",
       "      <th>n14</th>\n",
       "    </tr>\n",
       "  </thead>\n",
       "  <tbody>\n",
       "    <tr>\n",
       "      <th>0</th>\n",
       "      <td>0</td>\n",
       "      <td>35000.0</td>\n",
       "      <td>5</td>\n",
       "      <td>19.52</td>\n",
       "      <td>917.97</td>\n",
       "      <td>E</td>\n",
       "      <td>E2</td>\n",
       "      <td>320.0</td>\n",
       "      <td>2 years</td>\n",
       "      <td>2</td>\n",
       "      <td>...</td>\n",
       "      <td>9.0</td>\n",
       "      <td>8.0</td>\n",
       "      <td>4.0</td>\n",
       "      <td>12.0</td>\n",
       "      <td>2.0</td>\n",
       "      <td>7.0</td>\n",
       "      <td>0.0</td>\n",
       "      <td>0.0</td>\n",
       "      <td>0.0</td>\n",
       "      <td>2.0</td>\n",
       "    </tr>\n",
       "    <tr>\n",
       "      <th>1</th>\n",
       "      <td>1</td>\n",
       "      <td>18000.0</td>\n",
       "      <td>5</td>\n",
       "      <td>18.49</td>\n",
       "      <td>461.90</td>\n",
       "      <td>D</td>\n",
       "      <td>D2</td>\n",
       "      <td>219843.0</td>\n",
       "      <td>5 years</td>\n",
       "      <td>0</td>\n",
       "      <td>...</td>\n",
       "      <td>NaN</td>\n",
       "      <td>NaN</td>\n",
       "      <td>NaN</td>\n",
       "      <td>NaN</td>\n",
       "      <td>NaN</td>\n",
       "      <td>13.0</td>\n",
       "      <td>NaN</td>\n",
       "      <td>NaN</td>\n",
       "      <td>NaN</td>\n",
       "      <td>NaN</td>\n",
       "    </tr>\n",
       "    <tr>\n",
       "      <th>2</th>\n",
       "      <td>2</td>\n",
       "      <td>12000.0</td>\n",
       "      <td>5</td>\n",
       "      <td>16.99</td>\n",
       "      <td>298.17</td>\n",
       "      <td>D</td>\n",
       "      <td>D3</td>\n",
       "      <td>31698.0</td>\n",
       "      <td>8 years</td>\n",
       "      <td>0</td>\n",
       "      <td>...</td>\n",
       "      <td>0.0</td>\n",
       "      <td>21.0</td>\n",
       "      <td>4.0</td>\n",
       "      <td>5.0</td>\n",
       "      <td>3.0</td>\n",
       "      <td>11.0</td>\n",
       "      <td>0.0</td>\n",
       "      <td>0.0</td>\n",
       "      <td>0.0</td>\n",
       "      <td>4.0</td>\n",
       "    </tr>\n",
       "    <tr>\n",
       "      <th>3</th>\n",
       "      <td>3</td>\n",
       "      <td>11000.0</td>\n",
       "      <td>3</td>\n",
       "      <td>7.26</td>\n",
       "      <td>340.96</td>\n",
       "      <td>A</td>\n",
       "      <td>A4</td>\n",
       "      <td>46854.0</td>\n",
       "      <td>10+ years</td>\n",
       "      <td>1</td>\n",
       "      <td>...</td>\n",
       "      <td>16.0</td>\n",
       "      <td>4.0</td>\n",
       "      <td>7.0</td>\n",
       "      <td>21.0</td>\n",
       "      <td>6.0</td>\n",
       "      <td>9.0</td>\n",
       "      <td>0.0</td>\n",
       "      <td>0.0</td>\n",
       "      <td>0.0</td>\n",
       "      <td>1.0</td>\n",
       "    </tr>\n",
       "    <tr>\n",
       "      <th>4</th>\n",
       "      <td>4</td>\n",
       "      <td>3000.0</td>\n",
       "      <td>3</td>\n",
       "      <td>12.99</td>\n",
       "      <td>101.07</td>\n",
       "      <td>C</td>\n",
       "      <td>C2</td>\n",
       "      <td>54.0</td>\n",
       "      <td>NaN</td>\n",
       "      <td>1</td>\n",
       "      <td>...</td>\n",
       "      <td>4.0</td>\n",
       "      <td>9.0</td>\n",
       "      <td>10.0</td>\n",
       "      <td>15.0</td>\n",
       "      <td>7.0</td>\n",
       "      <td>12.0</td>\n",
       "      <td>0.0</td>\n",
       "      <td>0.0</td>\n",
       "      <td>0.0</td>\n",
       "      <td>4.0</td>\n",
       "    </tr>\n",
       "    <tr>\n",
       "      <th>799995</th>\n",
       "      <td>799995</td>\n",
       "      <td>25000.0</td>\n",
       "      <td>3</td>\n",
       "      <td>14.49</td>\n",
       "      <td>860.41</td>\n",
       "      <td>C</td>\n",
       "      <td>C4</td>\n",
       "      <td>2659.0</td>\n",
       "      <td>7 years</td>\n",
       "      <td>1</td>\n",
       "      <td>...</td>\n",
       "      <td>6.0</td>\n",
       "      <td>2.0</td>\n",
       "      <td>12.0</td>\n",
       "      <td>13.0</td>\n",
       "      <td>10.0</td>\n",
       "      <td>14.0</td>\n",
       "      <td>0.0</td>\n",
       "      <td>0.0</td>\n",
       "      <td>0.0</td>\n",
       "      <td>3.0</td>\n",
       "    </tr>\n",
       "    <tr>\n",
       "      <th>799996</th>\n",
       "      <td>799996</td>\n",
       "      <td>17000.0</td>\n",
       "      <td>3</td>\n",
       "      <td>7.90</td>\n",
       "      <td>531.94</td>\n",
       "      <td>A</td>\n",
       "      <td>A4</td>\n",
       "      <td>29205.0</td>\n",
       "      <td>10+ years</td>\n",
       "      <td>0</td>\n",
       "      <td>...</td>\n",
       "      <td>15.0</td>\n",
       "      <td>16.0</td>\n",
       "      <td>2.0</td>\n",
       "      <td>19.0</td>\n",
       "      <td>2.0</td>\n",
       "      <td>7.0</td>\n",
       "      <td>0.0</td>\n",
       "      <td>0.0</td>\n",
       "      <td>0.0</td>\n",
       "      <td>0.0</td>\n",
       "    </tr>\n",
       "    <tr>\n",
       "      <th>799997</th>\n",
       "      <td>799997</td>\n",
       "      <td>6000.0</td>\n",
       "      <td>3</td>\n",
       "      <td>13.33</td>\n",
       "      <td>203.12</td>\n",
       "      <td>C</td>\n",
       "      <td>C3</td>\n",
       "      <td>2582.0</td>\n",
       "      <td>10+ years</td>\n",
       "      <td>1</td>\n",
       "      <td>...</td>\n",
       "      <td>4.0</td>\n",
       "      <td>26.0</td>\n",
       "      <td>4.0</td>\n",
       "      <td>10.0</td>\n",
       "      <td>4.0</td>\n",
       "      <td>5.0</td>\n",
       "      <td>0.0</td>\n",
       "      <td>0.0</td>\n",
       "      <td>1.0</td>\n",
       "      <td>4.0</td>\n",
       "    </tr>\n",
       "    <tr>\n",
       "      <th>799998</th>\n",
       "      <td>799998</td>\n",
       "      <td>19200.0</td>\n",
       "      <td>3</td>\n",
       "      <td>6.92</td>\n",
       "      <td>592.14</td>\n",
       "      <td>A</td>\n",
       "      <td>A4</td>\n",
       "      <td>151.0</td>\n",
       "      <td>10+ years</td>\n",
       "      <td>0</td>\n",
       "      <td>...</td>\n",
       "      <td>10.0</td>\n",
       "      <td>6.0</td>\n",
       "      <td>12.0</td>\n",
       "      <td>22.0</td>\n",
       "      <td>8.0</td>\n",
       "      <td>16.0</td>\n",
       "      <td>0.0</td>\n",
       "      <td>0.0</td>\n",
       "      <td>0.0</td>\n",
       "      <td>5.0</td>\n",
       "    </tr>\n",
       "    <tr>\n",
       "      <th>799999</th>\n",
       "      <td>799999</td>\n",
       "      <td>9000.0</td>\n",
       "      <td>3</td>\n",
       "      <td>11.06</td>\n",
       "      <td>294.91</td>\n",
       "      <td>B</td>\n",
       "      <td>B3</td>\n",
       "      <td>13.0</td>\n",
       "      <td>5 years</td>\n",
       "      <td>0</td>\n",
       "      <td>...</td>\n",
       "      <td>3.0</td>\n",
       "      <td>4.0</td>\n",
       "      <td>4.0</td>\n",
       "      <td>8.0</td>\n",
       "      <td>3.0</td>\n",
       "      <td>7.0</td>\n",
       "      <td>0.0</td>\n",
       "      <td>0.0</td>\n",
       "      <td>0.0</td>\n",
       "      <td>2.0</td>\n",
       "    </tr>\n",
       "  </tbody>\n",
       "</table>\n",
       "<p>10 rows × 47 columns</p>\n",
       "</div>"
      ],
      "text/plain": [
       "            id  loanAmnt  term  interestRate  installment grade subGrade  \\\n",
       "0            0   35000.0     5         19.52       917.97     E       E2   \n",
       "1            1   18000.0     5         18.49       461.90     D       D2   \n",
       "2            2   12000.0     5         16.99       298.17     D       D3   \n",
       "3            3   11000.0     3          7.26       340.96     A       A4   \n",
       "4            4    3000.0     3         12.99       101.07     C       C2   \n",
       "799995  799995   25000.0     3         14.49       860.41     C       C4   \n",
       "799996  799996   17000.0     3          7.90       531.94     A       A4   \n",
       "799997  799997    6000.0     3         13.33       203.12     C       C3   \n",
       "799998  799998   19200.0     3          6.92       592.14     A       A4   \n",
       "799999  799999    9000.0     3         11.06       294.91     B       B3   \n",
       "\n",
       "        employmentTitle employmentLength  homeOwnership  ...    n5    n6  \\\n",
       "0                 320.0          2 years              2  ...   9.0   8.0   \n",
       "1              219843.0          5 years              0  ...   NaN   NaN   \n",
       "2               31698.0          8 years              0  ...   0.0  21.0   \n",
       "3               46854.0        10+ years              1  ...  16.0   4.0   \n",
       "4                  54.0              NaN              1  ...   4.0   9.0   \n",
       "799995           2659.0          7 years              1  ...   6.0   2.0   \n",
       "799996          29205.0        10+ years              0  ...  15.0  16.0   \n",
       "799997           2582.0        10+ years              1  ...   4.0  26.0   \n",
       "799998            151.0        10+ years              0  ...  10.0   6.0   \n",
       "799999             13.0          5 years              0  ...   3.0   4.0   \n",
       "\n",
       "          n7    n8    n9   n10  n11  n12  n13  n14  \n",
       "0        4.0  12.0   2.0   7.0  0.0  0.0  0.0  2.0  \n",
       "1        NaN   NaN   NaN  13.0  NaN  NaN  NaN  NaN  \n",
       "2        4.0   5.0   3.0  11.0  0.0  0.0  0.0  4.0  \n",
       "3        7.0  21.0   6.0   9.0  0.0  0.0  0.0  1.0  \n",
       "4       10.0  15.0   7.0  12.0  0.0  0.0  0.0  4.0  \n",
       "799995  12.0  13.0  10.0  14.0  0.0  0.0  0.0  3.0  \n",
       "799996   2.0  19.0   2.0   7.0  0.0  0.0  0.0  0.0  \n",
       "799997   4.0  10.0   4.0   5.0  0.0  0.0  1.0  4.0  \n",
       "799998  12.0  22.0   8.0  16.0  0.0  0.0  0.0  5.0  \n",
       "799999   4.0   8.0   3.0   7.0  0.0  0.0  0.0  2.0  \n",
       "\n",
       "[10 rows x 47 columns]"
      ]
     },
     "execution_count": 6,
     "metadata": {},
     "output_type": "execute_result"
    }
   ],
   "source": [
    "data_train.head().append(data_train.tail())"
   ]
  },
  {
   "cell_type": "code",
   "execution_count": 7,
   "metadata": {},
   "outputs": [
    {
     "data": {
      "text/html": [
       "<div>\n",
       "<style scoped>\n",
       "    .dataframe tbody tr th:only-of-type {\n",
       "        vertical-align: middle;\n",
       "    }\n",
       "\n",
       "    .dataframe tbody tr th {\n",
       "        vertical-align: top;\n",
       "    }\n",
       "\n",
       "    .dataframe thead th {\n",
       "        text-align: right;\n",
       "    }\n",
       "</style>\n",
       "<table border=\"1\" class=\"dataframe\">\n",
       "  <thead>\n",
       "    <tr style=\"text-align: right;\">\n",
       "      <th></th>\n",
       "      <th>id</th>\n",
       "      <th>loanAmnt</th>\n",
       "      <th>term</th>\n",
       "      <th>interestRate</th>\n",
       "      <th>installment</th>\n",
       "      <th>grade</th>\n",
       "      <th>subGrade</th>\n",
       "      <th>employmentTitle</th>\n",
       "      <th>employmentLength</th>\n",
       "      <th>homeOwnership</th>\n",
       "      <th>...</th>\n",
       "      <th>n5</th>\n",
       "      <th>n6</th>\n",
       "      <th>n7</th>\n",
       "      <th>n8</th>\n",
       "      <th>n9</th>\n",
       "      <th>n10</th>\n",
       "      <th>n11</th>\n",
       "      <th>n12</th>\n",
       "      <th>n13</th>\n",
       "      <th>n14</th>\n",
       "    </tr>\n",
       "  </thead>\n",
       "  <tbody>\n",
       "    <tr>\n",
       "      <th>0</th>\n",
       "      <td>800000</td>\n",
       "      <td>14000.0</td>\n",
       "      <td>3</td>\n",
       "      <td>10.99</td>\n",
       "      <td>458.28</td>\n",
       "      <td>B</td>\n",
       "      <td>B3</td>\n",
       "      <td>7027.0</td>\n",
       "      <td>10+ years</td>\n",
       "      <td>0</td>\n",
       "      <td>...</td>\n",
       "      <td>8.0</td>\n",
       "      <td>4.0</td>\n",
       "      <td>15.0</td>\n",
       "      <td>19.0</td>\n",
       "      <td>6.0</td>\n",
       "      <td>17.0</td>\n",
       "      <td>0.0</td>\n",
       "      <td>0.0</td>\n",
       "      <td>1.0</td>\n",
       "      <td>3.0</td>\n",
       "    </tr>\n",
       "    <tr>\n",
       "      <th>1</th>\n",
       "      <td>800001</td>\n",
       "      <td>20000.0</td>\n",
       "      <td>5</td>\n",
       "      <td>14.65</td>\n",
       "      <td>472.14</td>\n",
       "      <td>C</td>\n",
       "      <td>C5</td>\n",
       "      <td>60426.0</td>\n",
       "      <td>10+ years</td>\n",
       "      <td>0</td>\n",
       "      <td>...</td>\n",
       "      <td>1.0</td>\n",
       "      <td>3.0</td>\n",
       "      <td>3.0</td>\n",
       "      <td>9.0</td>\n",
       "      <td>3.0</td>\n",
       "      <td>5.0</td>\n",
       "      <td>0.0</td>\n",
       "      <td>0.0</td>\n",
       "      <td>2.0</td>\n",
       "      <td>2.0</td>\n",
       "    </tr>\n",
       "    <tr>\n",
       "      <th>2</th>\n",
       "      <td>800002</td>\n",
       "      <td>12000.0</td>\n",
       "      <td>3</td>\n",
       "      <td>19.99</td>\n",
       "      <td>445.91</td>\n",
       "      <td>D</td>\n",
       "      <td>D4</td>\n",
       "      <td>23547.0</td>\n",
       "      <td>2 years</td>\n",
       "      <td>1</td>\n",
       "      <td>...</td>\n",
       "      <td>1.0</td>\n",
       "      <td>36.0</td>\n",
       "      <td>5.0</td>\n",
       "      <td>6.0</td>\n",
       "      <td>4.0</td>\n",
       "      <td>12.0</td>\n",
       "      <td>0.0</td>\n",
       "      <td>0.0</td>\n",
       "      <td>0.0</td>\n",
       "      <td>7.0</td>\n",
       "    </tr>\n",
       "    <tr>\n",
       "      <th>3</th>\n",
       "      <td>800003</td>\n",
       "      <td>17500.0</td>\n",
       "      <td>5</td>\n",
       "      <td>14.31</td>\n",
       "      <td>410.02</td>\n",
       "      <td>C</td>\n",
       "      <td>C4</td>\n",
       "      <td>636.0</td>\n",
       "      <td>4 years</td>\n",
       "      <td>0</td>\n",
       "      <td>...</td>\n",
       "      <td>7.0</td>\n",
       "      <td>2.0</td>\n",
       "      <td>8.0</td>\n",
       "      <td>14.0</td>\n",
       "      <td>2.0</td>\n",
       "      <td>10.0</td>\n",
       "      <td>0.0</td>\n",
       "      <td>0.0</td>\n",
       "      <td>0.0</td>\n",
       "      <td>3.0</td>\n",
       "    </tr>\n",
       "    <tr>\n",
       "      <th>4</th>\n",
       "      <td>800004</td>\n",
       "      <td>35000.0</td>\n",
       "      <td>3</td>\n",
       "      <td>17.09</td>\n",
       "      <td>1249.42</td>\n",
       "      <td>D</td>\n",
       "      <td>D1</td>\n",
       "      <td>368446.0</td>\n",
       "      <td>&lt; 1 year</td>\n",
       "      <td>1</td>\n",
       "      <td>...</td>\n",
       "      <td>11.0</td>\n",
       "      <td>3.0</td>\n",
       "      <td>16.0</td>\n",
       "      <td>18.0</td>\n",
       "      <td>11.0</td>\n",
       "      <td>19.0</td>\n",
       "      <td>0.0</td>\n",
       "      <td>0.0</td>\n",
       "      <td>0.0</td>\n",
       "      <td>1.0</td>\n",
       "    </tr>\n",
       "    <tr>\n",
       "      <th>0</th>\n",
       "      <td>800000</td>\n",
       "      <td>14000.0</td>\n",
       "      <td>3</td>\n",
       "      <td>10.99</td>\n",
       "      <td>458.28</td>\n",
       "      <td>B</td>\n",
       "      <td>B3</td>\n",
       "      <td>7027.0</td>\n",
       "      <td>10+ years</td>\n",
       "      <td>0</td>\n",
       "      <td>...</td>\n",
       "      <td>8.0</td>\n",
       "      <td>4.0</td>\n",
       "      <td>15.0</td>\n",
       "      <td>19.0</td>\n",
       "      <td>6.0</td>\n",
       "      <td>17.0</td>\n",
       "      <td>0.0</td>\n",
       "      <td>0.0</td>\n",
       "      <td>1.0</td>\n",
       "      <td>3.0</td>\n",
       "    </tr>\n",
       "    <tr>\n",
       "      <th>1</th>\n",
       "      <td>800001</td>\n",
       "      <td>20000.0</td>\n",
       "      <td>5</td>\n",
       "      <td>14.65</td>\n",
       "      <td>472.14</td>\n",
       "      <td>C</td>\n",
       "      <td>C5</td>\n",
       "      <td>60426.0</td>\n",
       "      <td>10+ years</td>\n",
       "      <td>0</td>\n",
       "      <td>...</td>\n",
       "      <td>1.0</td>\n",
       "      <td>3.0</td>\n",
       "      <td>3.0</td>\n",
       "      <td>9.0</td>\n",
       "      <td>3.0</td>\n",
       "      <td>5.0</td>\n",
       "      <td>0.0</td>\n",
       "      <td>0.0</td>\n",
       "      <td>2.0</td>\n",
       "      <td>2.0</td>\n",
       "    </tr>\n",
       "    <tr>\n",
       "      <th>2</th>\n",
       "      <td>800002</td>\n",
       "      <td>12000.0</td>\n",
       "      <td>3</td>\n",
       "      <td>19.99</td>\n",
       "      <td>445.91</td>\n",
       "      <td>D</td>\n",
       "      <td>D4</td>\n",
       "      <td>23547.0</td>\n",
       "      <td>2 years</td>\n",
       "      <td>1</td>\n",
       "      <td>...</td>\n",
       "      <td>1.0</td>\n",
       "      <td>36.0</td>\n",
       "      <td>5.0</td>\n",
       "      <td>6.0</td>\n",
       "      <td>4.0</td>\n",
       "      <td>12.0</td>\n",
       "      <td>0.0</td>\n",
       "      <td>0.0</td>\n",
       "      <td>0.0</td>\n",
       "      <td>7.0</td>\n",
       "    </tr>\n",
       "    <tr>\n",
       "      <th>3</th>\n",
       "      <td>800003</td>\n",
       "      <td>17500.0</td>\n",
       "      <td>5</td>\n",
       "      <td>14.31</td>\n",
       "      <td>410.02</td>\n",
       "      <td>C</td>\n",
       "      <td>C4</td>\n",
       "      <td>636.0</td>\n",
       "      <td>4 years</td>\n",
       "      <td>0</td>\n",
       "      <td>...</td>\n",
       "      <td>7.0</td>\n",
       "      <td>2.0</td>\n",
       "      <td>8.0</td>\n",
       "      <td>14.0</td>\n",
       "      <td>2.0</td>\n",
       "      <td>10.0</td>\n",
       "      <td>0.0</td>\n",
       "      <td>0.0</td>\n",
       "      <td>0.0</td>\n",
       "      <td>3.0</td>\n",
       "    </tr>\n",
       "    <tr>\n",
       "      <th>4</th>\n",
       "      <td>800004</td>\n",
       "      <td>35000.0</td>\n",
       "      <td>3</td>\n",
       "      <td>17.09</td>\n",
       "      <td>1249.42</td>\n",
       "      <td>D</td>\n",
       "      <td>D1</td>\n",
       "      <td>368446.0</td>\n",
       "      <td>&lt; 1 year</td>\n",
       "      <td>1</td>\n",
       "      <td>...</td>\n",
       "      <td>11.0</td>\n",
       "      <td>3.0</td>\n",
       "      <td>16.0</td>\n",
       "      <td>18.0</td>\n",
       "      <td>11.0</td>\n",
       "      <td>19.0</td>\n",
       "      <td>0.0</td>\n",
       "      <td>0.0</td>\n",
       "      <td>0.0</td>\n",
       "      <td>1.0</td>\n",
       "    </tr>\n",
       "  </tbody>\n",
       "</table>\n",
       "<p>10 rows × 46 columns</p>\n",
       "</div>"
      ],
      "text/plain": [
       "       id  loanAmnt  term  interestRate  installment grade subGrade  \\\n",
       "0  800000   14000.0     3         10.99       458.28     B       B3   \n",
       "1  800001   20000.0     5         14.65       472.14     C       C5   \n",
       "2  800002   12000.0     3         19.99       445.91     D       D4   \n",
       "3  800003   17500.0     5         14.31       410.02     C       C4   \n",
       "4  800004   35000.0     3         17.09      1249.42     D       D1   \n",
       "0  800000   14000.0     3         10.99       458.28     B       B3   \n",
       "1  800001   20000.0     5         14.65       472.14     C       C5   \n",
       "2  800002   12000.0     3         19.99       445.91     D       D4   \n",
       "3  800003   17500.0     5         14.31       410.02     C       C4   \n",
       "4  800004   35000.0     3         17.09      1249.42     D       D1   \n",
       "\n",
       "   employmentTitle employmentLength  homeOwnership  ...    n5    n6    n7  \\\n",
       "0           7027.0        10+ years              0  ...   8.0   4.0  15.0   \n",
       "1          60426.0        10+ years              0  ...   1.0   3.0   3.0   \n",
       "2          23547.0          2 years              1  ...   1.0  36.0   5.0   \n",
       "3            636.0          4 years              0  ...   7.0   2.0   8.0   \n",
       "4         368446.0         < 1 year              1  ...  11.0   3.0  16.0   \n",
       "0           7027.0        10+ years              0  ...   8.0   4.0  15.0   \n",
       "1          60426.0        10+ years              0  ...   1.0   3.0   3.0   \n",
       "2          23547.0          2 years              1  ...   1.0  36.0   5.0   \n",
       "3            636.0          4 years              0  ...   7.0   2.0   8.0   \n",
       "4         368446.0         < 1 year              1  ...  11.0   3.0  16.0   \n",
       "\n",
       "     n8    n9   n10  n11  n12  n13  n14  \n",
       "0  19.0   6.0  17.0  0.0  0.0  1.0  3.0  \n",
       "1   9.0   3.0   5.0  0.0  0.0  2.0  2.0  \n",
       "2   6.0   4.0  12.0  0.0  0.0  0.0  7.0  \n",
       "3  14.0   2.0  10.0  0.0  0.0  0.0  3.0  \n",
       "4  18.0  11.0  19.0  0.0  0.0  0.0  1.0  \n",
       "0  19.0   6.0  17.0  0.0  0.0  1.0  3.0  \n",
       "1   9.0   3.0   5.0  0.0  0.0  2.0  2.0  \n",
       "2   6.0   4.0  12.0  0.0  0.0  0.0  7.0  \n",
       "3  14.0   2.0  10.0  0.0  0.0  0.0  3.0  \n",
       "4  18.0  11.0  19.0  0.0  0.0  0.0  1.0  \n",
       "\n",
       "[10 rows x 46 columns]"
      ]
     },
     "execution_count": 7,
     "metadata": {},
     "output_type": "execute_result"
    }
   ],
   "source": [
    "data_test_a.head().append(data_test_a.head())"
   ]
  },
  {
   "cell_type": "code",
   "execution_count": 8,
   "metadata": {},
   "outputs": [
    {
     "data": {
      "text/plain": [
       "Index(['id', 'loanAmnt', 'term', 'interestRate', 'installment', 'grade',\n",
       "       'subGrade', 'employmentTitle', 'employmentLength', 'homeOwnership',\n",
       "       'annualIncome', 'verificationStatus', 'issueDate', 'isDefault',\n",
       "       'purpose', 'postCode', 'regionCode', 'dti', 'delinquency_2years',\n",
       "       'ficoRangeLow', 'ficoRangeHigh', 'openAcc', 'pubRec',\n",
       "       'pubRecBankruptcies', 'revolBal', 'revolUtil', 'totalAcc',\n",
       "       'initialListStatus', 'applicationType', 'earliesCreditLine', 'title',\n",
       "       'policyCode', 'n0', 'n1', 'n2', 'n3', 'n4', 'n5', 'n6', 'n7', 'n8',\n",
       "       'n9', 'n10', 'n11', 'n12', 'n13', 'n14'],\n",
       "      dtype='object')"
      ]
     },
     "execution_count": 8,
     "metadata": {},
     "output_type": "execute_result"
    }
   ],
   "source": [
    "data_train.columns"
   ]
  },
  {
   "cell_type": "code",
   "execution_count": 9,
   "metadata": {},
   "outputs": [
    {
     "data": {
      "text/plain": [
       "RangeIndex(start=0, stop=800000, step=1)"
      ]
     },
     "execution_count": 9,
     "metadata": {},
     "output_type": "execute_result"
    }
   ],
   "source": [
    "data_train.index"
   ]
  },
  {
   "cell_type": "code",
   "execution_count": 10,
   "metadata": {},
   "outputs": [
    {
     "data": {
      "text/plain": [
       "RangeIndex(start=0, stop=200000, step=1)"
      ]
     },
     "execution_count": 10,
     "metadata": {},
     "output_type": "execute_result"
    }
   ],
   "source": [
    "data_test_a.index"
   ]
  },
  {
   "cell_type": "code",
   "execution_count": 11,
   "metadata": {},
   "outputs": [
    {
     "name": "stdout",
     "output_type": "stream",
     "text": [
      "<class 'pandas.core.frame.DataFrame'>\n",
      "RangeIndex: 800000 entries, 0 to 799999\n",
      "Data columns (total 47 columns):\n",
      " #   Column              Non-Null Count   Dtype  \n",
      "---  ------              --------------   -----  \n",
      " 0   id                  800000 non-null  int64  \n",
      " 1   loanAmnt            800000 non-null  float64\n",
      " 2   term                800000 non-null  int64  \n",
      " 3   interestRate        800000 non-null  float64\n",
      " 4   installment         800000 non-null  float64\n",
      " 5   grade               800000 non-null  object \n",
      " 6   subGrade            800000 non-null  object \n",
      " 7   employmentTitle     799999 non-null  float64\n",
      " 8   employmentLength    753201 non-null  object \n",
      " 9   homeOwnership       800000 non-null  int64  \n",
      " 10  annualIncome        800000 non-null  float64\n",
      " 11  verificationStatus  800000 non-null  int64  \n",
      " 12  issueDate           800000 non-null  object \n",
      " 13  isDefault           800000 non-null  int64  \n",
      " 14  purpose             800000 non-null  int64  \n",
      " 15  postCode            799999 non-null  float64\n",
      " 16  regionCode          800000 non-null  int64  \n",
      " 17  dti                 799761 non-null  float64\n",
      " 18  delinquency_2years  800000 non-null  float64\n",
      " 19  ficoRangeLow        800000 non-null  float64\n",
      " 20  ficoRangeHigh       800000 non-null  float64\n",
      " 21  openAcc             800000 non-null  float64\n",
      " 22  pubRec              800000 non-null  float64\n",
      " 23  pubRecBankruptcies  799595 non-null  float64\n",
      " 24  revolBal            800000 non-null  float64\n",
      " 25  revolUtil           799469 non-null  float64\n",
      " 26  totalAcc            800000 non-null  float64\n",
      " 27  initialListStatus   800000 non-null  int64  \n",
      " 28  applicationType     800000 non-null  int64  \n",
      " 29  earliesCreditLine   800000 non-null  object \n",
      " 30  title               799999 non-null  float64\n",
      " 31  policyCode          800000 non-null  float64\n",
      " 32  n0                  759730 non-null  float64\n",
      " 33  n1                  759730 non-null  float64\n",
      " 34  n2                  759730 non-null  float64\n",
      " 35  n3                  759730 non-null  float64\n",
      " 36  n4                  766761 non-null  float64\n",
      " 37  n5                  759730 non-null  float64\n",
      " 38  n6                  759730 non-null  float64\n",
      " 39  n7                  759730 non-null  float64\n",
      " 40  n8                  759729 non-null  float64\n",
      " 41  n9                  759730 non-null  float64\n",
      " 42  n10                 766761 non-null  float64\n",
      " 43  n11                 730248 non-null  float64\n",
      " 44  n12                 759730 non-null  float64\n",
      " 45  n13                 759730 non-null  float64\n",
      " 46  n14                 759730 non-null  float64\n",
      "dtypes: float64(33), int64(9), object(5)\n",
      "memory usage: 286.9+ MB\n"
     ]
    }
   ],
   "source": [
    "data_train.info()"
   ]
  },
  {
   "cell_type": "code",
   "execution_count": 12,
   "metadata": {},
   "outputs": [
    {
     "name": "stdout",
     "output_type": "stream",
     "text": [
      "<class 'pandas.core.frame.DataFrame'>\n",
      "RangeIndex: 200000 entries, 0 to 199999\n",
      "Data columns (total 46 columns):\n",
      " #   Column              Non-Null Count   Dtype  \n",
      "---  ------              --------------   -----  \n",
      " 0   id                  200000 non-null  int64  \n",
      " 1   loanAmnt            200000 non-null  float64\n",
      " 2   term                200000 non-null  int64  \n",
      " 3   interestRate        200000 non-null  float64\n",
      " 4   installment         200000 non-null  float64\n",
      " 5   grade               200000 non-null  object \n",
      " 6   subGrade            200000 non-null  object \n",
      " 7   employmentTitle     200000 non-null  float64\n",
      " 8   employmentLength    188258 non-null  object \n",
      " 9   homeOwnership       200000 non-null  int64  \n",
      " 10  annualIncome        200000 non-null  float64\n",
      " 11  verificationStatus  200000 non-null  int64  \n",
      " 12  issueDate           200000 non-null  object \n",
      " 13  purpose             200000 non-null  int64  \n",
      " 14  postCode            200000 non-null  float64\n",
      " 15  regionCode          200000 non-null  int64  \n",
      " 16  dti                 199939 non-null  float64\n",
      " 17  delinquency_2years  200000 non-null  float64\n",
      " 18  ficoRangeLow        200000 non-null  float64\n",
      " 19  ficoRangeHigh       200000 non-null  float64\n",
      " 20  openAcc             200000 non-null  float64\n",
      " 21  pubRec              200000 non-null  float64\n",
      " 22  pubRecBankruptcies  199884 non-null  float64\n",
      " 23  revolBal            200000 non-null  float64\n",
      " 24  revolUtil           199873 non-null  float64\n",
      " 25  totalAcc            200000 non-null  float64\n",
      " 26  initialListStatus   200000 non-null  int64  \n",
      " 27  applicationType     200000 non-null  int64  \n",
      " 28  earliesCreditLine   200000 non-null  object \n",
      " 29  title               200000 non-null  float64\n",
      " 30  policyCode          200000 non-null  float64\n",
      " 31  n0                  189889 non-null  float64\n",
      " 32  n1                  189889 non-null  float64\n",
      " 33  n2                  189889 non-null  float64\n",
      " 34  n3                  189889 non-null  float64\n",
      " 35  n4                  191606 non-null  float64\n",
      " 36  n5                  189889 non-null  float64\n",
      " 37  n6                  189889 non-null  float64\n",
      " 38  n7                  189889 non-null  float64\n",
      " 39  n8                  189889 non-null  float64\n",
      " 40  n9                  189889 non-null  float64\n",
      " 41  n10                 191606 non-null  float64\n",
      " 42  n11                 182425 non-null  float64\n",
      " 43  n12                 189889 non-null  float64\n",
      " 44  n13                 189889 non-null  float64\n",
      " 45  n14                 189889 non-null  float64\n",
      "dtypes: float64(33), int64(8), object(5)\n",
      "memory usage: 70.2+ MB\n"
     ]
    }
   ],
   "source": [
    "data_test_a.info()"
   ]
  },
  {
   "cell_type": "code",
   "execution_count": 14,
   "metadata": {},
   "outputs": [
    {
     "data": {
      "text/html": [
       "<div>\n",
       "<style scoped>\n",
       "    .dataframe tbody tr th:only-of-type {\n",
       "        vertical-align: middle;\n",
       "    }\n",
       "\n",
       "    .dataframe tbody tr th {\n",
       "        vertical-align: top;\n",
       "    }\n",
       "\n",
       "    .dataframe thead th {\n",
       "        text-align: right;\n",
       "    }\n",
       "</style>\n",
       "<table border=\"1\" class=\"dataframe\">\n",
       "  <thead>\n",
       "    <tr style=\"text-align: right;\">\n",
       "      <th></th>\n",
       "      <th>id</th>\n",
       "      <th>loanAmnt</th>\n",
       "      <th>term</th>\n",
       "      <th>interestRate</th>\n",
       "      <th>installment</th>\n",
       "      <th>employmentTitle</th>\n",
       "      <th>homeOwnership</th>\n",
       "      <th>annualIncome</th>\n",
       "      <th>verificationStatus</th>\n",
       "      <th>isDefault</th>\n",
       "      <th>...</th>\n",
       "      <th>n5</th>\n",
       "      <th>n6</th>\n",
       "      <th>n7</th>\n",
       "      <th>n8</th>\n",
       "      <th>n9</th>\n",
       "      <th>n10</th>\n",
       "      <th>n11</th>\n",
       "      <th>n12</th>\n",
       "      <th>n13</th>\n",
       "      <th>n14</th>\n",
       "    </tr>\n",
       "  </thead>\n",
       "  <tbody>\n",
       "    <tr>\n",
       "      <th>count</th>\n",
       "      <td>800000.000000</td>\n",
       "      <td>800000.000000</td>\n",
       "      <td>800000.000000</td>\n",
       "      <td>800000.000000</td>\n",
       "      <td>800000.000000</td>\n",
       "      <td>799999.000000</td>\n",
       "      <td>800000.000000</td>\n",
       "      <td>8.000000e+05</td>\n",
       "      <td>800000.000000</td>\n",
       "      <td>800000.000000</td>\n",
       "      <td>...</td>\n",
       "      <td>759730.000000</td>\n",
       "      <td>759730.000000</td>\n",
       "      <td>759730.000000</td>\n",
       "      <td>759729.000000</td>\n",
       "      <td>759730.000000</td>\n",
       "      <td>766761.000000</td>\n",
       "      <td>730248.000000</td>\n",
       "      <td>759730.000000</td>\n",
       "      <td>759730.000000</td>\n",
       "      <td>759730.000000</td>\n",
       "    </tr>\n",
       "    <tr>\n",
       "      <th>mean</th>\n",
       "      <td>399999.500000</td>\n",
       "      <td>14416.818875</td>\n",
       "      <td>3.482745</td>\n",
       "      <td>13.238391</td>\n",
       "      <td>437.947723</td>\n",
       "      <td>72005.351714</td>\n",
       "      <td>0.614213</td>\n",
       "      <td>7.613391e+04</td>\n",
       "      <td>1.009683</td>\n",
       "      <td>0.199513</td>\n",
       "      <td>...</td>\n",
       "      <td>8.107937</td>\n",
       "      <td>8.575994</td>\n",
       "      <td>8.282953</td>\n",
       "      <td>14.622488</td>\n",
       "      <td>5.592345</td>\n",
       "      <td>11.643896</td>\n",
       "      <td>0.000815</td>\n",
       "      <td>0.003384</td>\n",
       "      <td>0.089366</td>\n",
       "      <td>2.178606</td>\n",
       "    </tr>\n",
       "    <tr>\n",
       "      <th>std</th>\n",
       "      <td>230940.252015</td>\n",
       "      <td>8716.086178</td>\n",
       "      <td>0.855832</td>\n",
       "      <td>4.765757</td>\n",
       "      <td>261.460393</td>\n",
       "      <td>106585.640204</td>\n",
       "      <td>0.675749</td>\n",
       "      <td>6.894751e+04</td>\n",
       "      <td>0.782716</td>\n",
       "      <td>0.399634</td>\n",
       "      <td>...</td>\n",
       "      <td>4.799210</td>\n",
       "      <td>7.400536</td>\n",
       "      <td>4.561689</td>\n",
       "      <td>8.124610</td>\n",
       "      <td>3.216184</td>\n",
       "      <td>5.484104</td>\n",
       "      <td>0.030075</td>\n",
       "      <td>0.062041</td>\n",
       "      <td>0.509069</td>\n",
       "      <td>1.844377</td>\n",
       "    </tr>\n",
       "    <tr>\n",
       "      <th>min</th>\n",
       "      <td>0.000000</td>\n",
       "      <td>500.000000</td>\n",
       "      <td>3.000000</td>\n",
       "      <td>5.310000</td>\n",
       "      <td>15.690000</td>\n",
       "      <td>0.000000</td>\n",
       "      <td>0.000000</td>\n",
       "      <td>0.000000e+00</td>\n",
       "      <td>0.000000</td>\n",
       "      <td>0.000000</td>\n",
       "      <td>...</td>\n",
       "      <td>0.000000</td>\n",
       "      <td>0.000000</td>\n",
       "      <td>0.000000</td>\n",
       "      <td>1.000000</td>\n",
       "      <td>0.000000</td>\n",
       "      <td>0.000000</td>\n",
       "      <td>0.000000</td>\n",
       "      <td>0.000000</td>\n",
       "      <td>0.000000</td>\n",
       "      <td>0.000000</td>\n",
       "    </tr>\n",
       "    <tr>\n",
       "      <th>25%</th>\n",
       "      <td>199999.750000</td>\n",
       "      <td>8000.000000</td>\n",
       "      <td>3.000000</td>\n",
       "      <td>9.750000</td>\n",
       "      <td>248.450000</td>\n",
       "      <td>427.000000</td>\n",
       "      <td>0.000000</td>\n",
       "      <td>4.560000e+04</td>\n",
       "      <td>0.000000</td>\n",
       "      <td>0.000000</td>\n",
       "      <td>...</td>\n",
       "      <td>5.000000</td>\n",
       "      <td>4.000000</td>\n",
       "      <td>5.000000</td>\n",
       "      <td>9.000000</td>\n",
       "      <td>3.000000</td>\n",
       "      <td>8.000000</td>\n",
       "      <td>0.000000</td>\n",
       "      <td>0.000000</td>\n",
       "      <td>0.000000</td>\n",
       "      <td>1.000000</td>\n",
       "    </tr>\n",
       "    <tr>\n",
       "      <th>50%</th>\n",
       "      <td>399999.500000</td>\n",
       "      <td>12000.000000</td>\n",
       "      <td>3.000000</td>\n",
       "      <td>12.740000</td>\n",
       "      <td>375.135000</td>\n",
       "      <td>7755.000000</td>\n",
       "      <td>1.000000</td>\n",
       "      <td>6.500000e+04</td>\n",
       "      <td>1.000000</td>\n",
       "      <td>0.000000</td>\n",
       "      <td>...</td>\n",
       "      <td>7.000000</td>\n",
       "      <td>7.000000</td>\n",
       "      <td>7.000000</td>\n",
       "      <td>13.000000</td>\n",
       "      <td>5.000000</td>\n",
       "      <td>11.000000</td>\n",
       "      <td>0.000000</td>\n",
       "      <td>0.000000</td>\n",
       "      <td>0.000000</td>\n",
       "      <td>2.000000</td>\n",
       "    </tr>\n",
       "    <tr>\n",
       "      <th>75%</th>\n",
       "      <td>599999.250000</td>\n",
       "      <td>20000.000000</td>\n",
       "      <td>3.000000</td>\n",
       "      <td>15.990000</td>\n",
       "      <td>580.710000</td>\n",
       "      <td>117663.500000</td>\n",
       "      <td>1.000000</td>\n",
       "      <td>9.000000e+04</td>\n",
       "      <td>2.000000</td>\n",
       "      <td>0.000000</td>\n",
       "      <td>...</td>\n",
       "      <td>11.000000</td>\n",
       "      <td>11.000000</td>\n",
       "      <td>10.000000</td>\n",
       "      <td>19.000000</td>\n",
       "      <td>7.000000</td>\n",
       "      <td>14.000000</td>\n",
       "      <td>0.000000</td>\n",
       "      <td>0.000000</td>\n",
       "      <td>0.000000</td>\n",
       "      <td>3.000000</td>\n",
       "    </tr>\n",
       "    <tr>\n",
       "      <th>max</th>\n",
       "      <td>799999.000000</td>\n",
       "      <td>40000.000000</td>\n",
       "      <td>5.000000</td>\n",
       "      <td>30.990000</td>\n",
       "      <td>1715.420000</td>\n",
       "      <td>378351.000000</td>\n",
       "      <td>5.000000</td>\n",
       "      <td>1.099920e+07</td>\n",
       "      <td>2.000000</td>\n",
       "      <td>1.000000</td>\n",
       "      <td>...</td>\n",
       "      <td>70.000000</td>\n",
       "      <td>132.000000</td>\n",
       "      <td>79.000000</td>\n",
       "      <td>128.000000</td>\n",
       "      <td>45.000000</td>\n",
       "      <td>82.000000</td>\n",
       "      <td>4.000000</td>\n",
       "      <td>4.000000</td>\n",
       "      <td>39.000000</td>\n",
       "      <td>30.000000</td>\n",
       "    </tr>\n",
       "  </tbody>\n",
       "</table>\n",
       "<p>8 rows × 42 columns</p>\n",
       "</div>"
      ],
      "text/plain": [
       "                  id       loanAmnt           term   interestRate  \\\n",
       "count  800000.000000  800000.000000  800000.000000  800000.000000   \n",
       "mean   399999.500000   14416.818875       3.482745      13.238391   \n",
       "std    230940.252015    8716.086178       0.855832       4.765757   \n",
       "min         0.000000     500.000000       3.000000       5.310000   \n",
       "25%    199999.750000    8000.000000       3.000000       9.750000   \n",
       "50%    399999.500000   12000.000000       3.000000      12.740000   \n",
       "75%    599999.250000   20000.000000       3.000000      15.990000   \n",
       "max    799999.000000   40000.000000       5.000000      30.990000   \n",
       "\n",
       "         installment  employmentTitle  homeOwnership  annualIncome  \\\n",
       "count  800000.000000    799999.000000  800000.000000  8.000000e+05   \n",
       "mean      437.947723     72005.351714       0.614213  7.613391e+04   \n",
       "std       261.460393    106585.640204       0.675749  6.894751e+04   \n",
       "min        15.690000         0.000000       0.000000  0.000000e+00   \n",
       "25%       248.450000       427.000000       0.000000  4.560000e+04   \n",
       "50%       375.135000      7755.000000       1.000000  6.500000e+04   \n",
       "75%       580.710000    117663.500000       1.000000  9.000000e+04   \n",
       "max      1715.420000    378351.000000       5.000000  1.099920e+07   \n",
       "\n",
       "       verificationStatus      isDefault  ...             n5             n6  \\\n",
       "count       800000.000000  800000.000000  ...  759730.000000  759730.000000   \n",
       "mean             1.009683       0.199513  ...       8.107937       8.575994   \n",
       "std              0.782716       0.399634  ...       4.799210       7.400536   \n",
       "min              0.000000       0.000000  ...       0.000000       0.000000   \n",
       "25%              0.000000       0.000000  ...       5.000000       4.000000   \n",
       "50%              1.000000       0.000000  ...       7.000000       7.000000   \n",
       "75%              2.000000       0.000000  ...      11.000000      11.000000   \n",
       "max              2.000000       1.000000  ...      70.000000     132.000000   \n",
       "\n",
       "                  n7             n8             n9            n10  \\\n",
       "count  759730.000000  759729.000000  759730.000000  766761.000000   \n",
       "mean        8.282953      14.622488       5.592345      11.643896   \n",
       "std         4.561689       8.124610       3.216184       5.484104   \n",
       "min         0.000000       1.000000       0.000000       0.000000   \n",
       "25%         5.000000       9.000000       3.000000       8.000000   \n",
       "50%         7.000000      13.000000       5.000000      11.000000   \n",
       "75%        10.000000      19.000000       7.000000      14.000000   \n",
       "max        79.000000     128.000000      45.000000      82.000000   \n",
       "\n",
       "                 n11            n12            n13            n14  \n",
       "count  730248.000000  759730.000000  759730.000000  759730.000000  \n",
       "mean        0.000815       0.003384       0.089366       2.178606  \n",
       "std         0.030075       0.062041       0.509069       1.844377  \n",
       "min         0.000000       0.000000       0.000000       0.000000  \n",
       "25%         0.000000       0.000000       0.000000       1.000000  \n",
       "50%         0.000000       0.000000       0.000000       2.000000  \n",
       "75%         0.000000       0.000000       0.000000       3.000000  \n",
       "max         4.000000       4.000000      39.000000      30.000000  \n",
       "\n",
       "[8 rows x 42 columns]"
      ]
     },
     "execution_count": 14,
     "metadata": {},
     "output_type": "execute_result"
    }
   ],
   "source": [
    "data_train.describe()"
   ]
  },
  {
   "cell_type": "markdown",
   "metadata": {},
   "source": [
    "## 查看数据集中特征缺失值，唯一值等"
   ]
  },
  {
   "cell_type": "code",
   "execution_count": 15,
   "metadata": {},
   "outputs": [
    {
     "name": "stdout",
     "output_type": "stream",
     "text": [
      "There are 22 columns in train dataset with missing values.\n"
     ]
    }
   ],
   "source": [
    "print(f'There are {data_train.isnull().any().sum()} columns in train dataset with missing values.')"
   ]
  },
  {
   "cell_type": "markdown",
   "metadata": {},
   "source": [
    "上面得到训练集有22列特征有缺失值，进一步查看缺失特征中缺失率大于50%的特征"
   ]
  },
  {
   "cell_type": "code",
   "execution_count": 16,
   "metadata": {},
   "outputs": [],
   "source": [
    "have_null_fea_dict = (data_train.isnull().sum()/len(data_train)).to_dict()\n",
    "fea_null_moreThanHalf = {}\n",
    "for key,value in have_null_fea_dict.items():\n",
    "    if value > 0.5:\n",
    "        fea_null_moreThanHalf[key] = value"
   ]
  },
  {
   "cell_type": "code",
   "execution_count": 17,
   "metadata": {},
   "outputs": [
    {
     "data": {
      "text/plain": [
       "{}"
      ]
     },
     "execution_count": 17,
     "metadata": {},
     "output_type": "execute_result"
    }
   ],
   "source": [
    "fea_null_moreThanHalf"
   ]
  },
  {
   "cell_type": "markdown",
   "metadata": {},
   "source": [
    "查看缺失特征及缺失率"
   ]
  },
  {
   "cell_type": "code",
   "execution_count": 18,
   "metadata": {},
   "outputs": [
    {
     "data": {
      "text/plain": [
       "<AxesSubplot:>"
      ]
     },
     "execution_count": 18,
     "metadata": {},
     "output_type": "execute_result"
    },
    {
     "data": {
      "image/png": "[encoded data removed]",
      "text/plain": [
       "<Figure size 432x288 with 1 Axes>"
      ]
     },
     "metadata": {},
     "output_type": "display_data"
    }
   ],
   "source": [
    "# nan可视化\n",
    "missing = data_train.isnull().sum()/len(data_train)\n",
    "missing = missing[missing > 0]\n",
    "missing.sort_values(inplace=True)\n",
    "missing.plot.bar()"
   ]
  },
  {
   "cell_type": "markdown",
   "metadata": {},
   "source": [
    "查看训练集测试集中特征属性只有一值的特征"
   ]
  },
  {
   "cell_type": "code",
   "execution_count": 19,
   "metadata": {},
   "outputs": [],
   "source": [
    "one_value_fea = [col for col in data_train.columns if data_train[col].nunique() <= 1]"
   ]
  },
  {
   "cell_type": "code",
   "execution_count": 20,
   "metadata": {},
   "outputs": [],
   "source": [
    "one_value_fea_test = [col for col in data_test_a.columns if data_test_a[col].nunique() <= 1]"
   ]
  },
  {
   "cell_type": "code",
   "execution_count": 21,
   "metadata": {},
   "outputs": [
    {
     "data": {
      "text/plain": [
       "['policyCode']"
      ]
     },
     "execution_count": 21,
     "metadata": {},
     "output_type": "execute_result"
    }
   ],
   "source": [
    "one_value_fea"
   ]
  },
  {
   "cell_type": "code",
   "execution_count": 22,
   "metadata": {},
   "outputs": [
    {
     "data": {
      "text/plain": [
       "['policyCode']"
      ]
     },
     "execution_count": 22,
     "metadata": {},
     "output_type": "execute_result"
    }
   ],
   "source": [
    "one_value_fea_test"
   ]
  },
  {
   "cell_type": "code",
   "execution_count": 23,
   "metadata": {},
   "outputs": [
    {
     "name": "stdout",
     "output_type": "stream",
     "text": [
      "There are 1 columns in train dataset with one unique value.\n",
      "There are 1 columns in test dataset with one unique value.\n"
     ]
    }
   ],
   "source": [
    "print(f'There are {len(one_value_fea)} columns in train dataset with one unique value.')\n",
    "print(f'There are {len(one_value_fea_test)} columns in test dataset with one unique value.')"
   ]
  },
  {
   "cell_type": "code",
   "execution_count": 24,
   "metadata": {},
   "outputs": [
    {
     "data": {
      "text/plain": [
       "4456"
      ]
     },
     "execution_count": 24,
     "metadata": {},
     "output_type": "execute_result"
    }
   ],
   "source": [
    "import gc\n",
    "gc.collect()"
   ]
  },
  {
   "cell_type": "markdown",
   "metadata": {},
   "source": [
    "## 查看特征的数值类型有哪些，对象类型有哪些"
   ]
  },
  {
   "cell_type": "code",
   "execution_count": 25,
   "metadata": {},
   "outputs": [],
   "source": [
    "numerical_fea = list(data_train.select_dtypes(exclude=['object']).columns)\n",
    "category_fea = list(filter(lambda x: x not in numerical_fea,list(data_train.columns)))"
   ]
  },
  {
   "cell_type": "code",
   "execution_count": 26,
   "metadata": {},
   "outputs": [
    {
     "data": {
      "text/plain": [
       "['id',\n",
       " 'loanAmnt',\n",
       " 'term',\n",
       " 'interestRate',\n",
       " 'installment',\n",
       " 'employmentTitle',\n",
       " 'homeOwnership',\n",
       " 'annualIncome',\n",
       " 'verificationStatus',\n",
       " 'isDefault',\n",
       " 'purpose',\n",
       " 'postCode',\n",
       " 'regionCode',\n",
       " 'dti',\n",
       " 'delinquency_2years',\n",
       " 'ficoRangeLow',\n",
       " 'ficoRangeHigh',\n",
       " 'openAcc',\n",
       " 'pubRec',\n",
       " 'pubRecBankruptcies',\n",
       " 'revolBal',\n",
       " 'revolUtil',\n",
       " 'totalAcc',\n",
       " 'initialListStatus',\n",
       " 'applicationType',\n",
       " 'title',\n",
       " 'policyCode',\n",
       " 'n0',\n",
       " 'n1',\n",
       " 'n2',\n",
       " 'n3',\n",
       " 'n4',\n",
       " 'n5',\n",
       " 'n6',\n",
       " 'n7',\n",
       " 'n8',\n",
       " 'n9',\n",
       " 'n10',\n",
       " 'n11',\n",
       " 'n12',\n",
       " 'n13',\n",
       " 'n14']"
      ]
     },
     "execution_count": 26,
     "metadata": {},
     "output_type": "execute_result"
    }
   ],
   "source": [
    "numerical_fea"
   ]
  },
  {
   "cell_type": "code",
   "execution_count": 27,
   "metadata": {},
   "outputs": [
    {
     "data": {
      "text/plain": [
       "['grade', 'subGrade', 'employmentLength', 'issueDate', 'earliesCreditLine']"
      ]
     },
     "execution_count": 27,
     "metadata": {},
     "output_type": "execute_result"
    }
   ],
   "source": [
    "category_fea"
   ]
  },
  {
   "cell_type": "code",
   "execution_count": 28,
   "metadata": {},
   "outputs": [
    {
     "data": {
      "text/plain": [
       "0         E\n",
       "1         D\n",
       "2         D\n",
       "3         A\n",
       "4         C\n",
       "         ..\n",
       "799995    C\n",
       "799996    A\n",
       "799997    C\n",
       "799998    A\n",
       "799999    B\n",
       "Name: grade, Length: 800000, dtype: object"
      ]
     },
     "execution_count": 28,
     "metadata": {},
     "output_type": "execute_result"
    }
   ],
   "source": [
    "data_train.grade"
   ]
  },
  {
   "cell_type": "markdown",
   "metadata": {},
   "source": [
    "数值型变量分析，数值型肯定是包括连续型变量和离散型变量的，找出来"
   ]
  },
  {
   "cell_type": "code",
   "execution_count": 29,
   "metadata": {},
   "outputs": [],
   "source": [
    "#过滤数值型类别特征\n",
    "def get_numerical_serial_fea(data,feas):\n",
    "    numerical_serial_fea = []\n",
    "    numerical_noserial_fea = []\n",
    "    for fea in feas:\n",
    "        temp = data[fea].nunique()\n",
    "        if temp <= 10:\n",
    "            numerical_noserial_fea.append(fea)\n",
    "            continue\n",
    "        numerical_serial_fea.append(fea)\n",
    "    return numerical_serial_fea,numerical_noserial_fea\n",
    "numerical_serial_fea,numerical_noserial_fea = get_numerical_serial_fea(data_train,numerical_fea)"
   ]
  },
  {
   "cell_type": "code",
   "execution_count": 30,
   "metadata": {},
   "outputs": [
    {
     "data": {
      "text/plain": [
       "['id',\n",
       " 'loanAmnt',\n",
       " 'interestRate',\n",
       " 'installment',\n",
       " 'employmentTitle',\n",
       " 'annualIncome',\n",
       " 'purpose',\n",
       " 'postCode',\n",
       " 'regionCode',\n",
       " 'dti',\n",
       " 'delinquency_2years',\n",
       " 'ficoRangeLow',\n",
       " 'ficoRangeHigh',\n",
       " 'openAcc',\n",
       " 'pubRec',\n",
       " 'pubRecBankruptcies',\n",
       " 'revolBal',\n",
       " 'revolUtil',\n",
       " 'totalAcc',\n",
       " 'title',\n",
       " 'n0',\n",
       " 'n1',\n",
       " 'n2',\n",
       " 'n3',\n",
       " 'n4',\n",
       " 'n5',\n",
       " 'n6',\n",
       " 'n7',\n",
       " 'n8',\n",
       " 'n9',\n",
       " 'n10',\n",
       " 'n13',\n",
       " 'n14']"
      ]
     },
     "execution_count": 30,
     "metadata": {},
     "output_type": "execute_result"
    }
   ],
   "source": [
    "numerical_serial_fea"
   ]
  },
  {
   "cell_type": "code",
   "execution_count": 31,
   "metadata": {},
   "outputs": [
    {
     "data": {
      "text/plain": [
       "['term',\n",
       " 'homeOwnership',\n",
       " 'verificationStatus',\n",
       " 'isDefault',\n",
       " 'initialListStatus',\n",
       " 'applicationType',\n",
       " 'policyCode',\n",
       " 'n11',\n",
       " 'n12']"
      ]
     },
     "execution_count": 31,
     "metadata": {},
     "output_type": "execute_result"
    }
   ],
   "source": [
    "numerical_noserial_fea"
   ]
  },
  {
   "cell_type": "markdown",
   "metadata": {},
   "source": [
    "数值类别型变量分析"
   ]
  },
  {
   "cell_type": "code",
   "execution_count": 32,
   "metadata": {},
   "outputs": [
    {
     "data": {
      "text/plain": [
       "3    606902\n",
       "5    193098\n",
       "Name: term, dtype: int64"
      ]
     },
     "execution_count": 32,
     "metadata": {},
     "output_type": "execute_result"
    }
   ],
   "source": [
    "data_train['term'].value_counts()#离散型变量"
   ]
  },
  {
   "cell_type": "code",
   "execution_count": 33,
   "metadata": {},
   "outputs": [
    {
     "data": {
      "text/plain": [
       "0    395732\n",
       "1    317660\n",
       "2     86309\n",
       "3       185\n",
       "5        81\n",
       "4        33\n",
       "Name: homeOwnership, dtype: int64"
      ]
     },
     "execution_count": 33,
     "metadata": {},
     "output_type": "execute_result"
    }
   ],
   "source": [
    "data_train['homeOwnership'].value_counts()#离散型变量"
   ]
  },
  {
   "cell_type": "code",
   "execution_count": 34,
   "metadata": {},
   "outputs": [
    {
     "data": {
      "text/plain": [
       "1    309810\n",
       "2    248968\n",
       "0    241222\n",
       "Name: verificationStatus, dtype: int64"
      ]
     },
     "execution_count": 34,
     "metadata": {},
     "output_type": "execute_result"
    }
   ],
   "source": [
    "data_train['verificationStatus'].value_counts()#离散型变量"
   ]
  },
  {
   "cell_type": "code",
   "execution_count": 35,
   "metadata": {},
   "outputs": [
    {
     "data": {
      "text/plain": [
       "0    466438\n",
       "1    333562\n",
       "Name: initialListStatus, dtype: int64"
      ]
     },
     "execution_count": 35,
     "metadata": {},
     "output_type": "execute_result"
    }
   ],
   "source": [
    "data_train['initialListStatus'].value_counts()#离散型变量"
   ]
  },
  {
   "cell_type": "code",
   "execution_count": 36,
   "metadata": {},
   "outputs": [
    {
     "data": {
      "text/plain": [
       "0    784586\n",
       "1     15414\n",
       "Name: applicationType, dtype: int64"
      ]
     },
     "execution_count": 36,
     "metadata": {},
     "output_type": "execute_result"
    }
   ],
   "source": [
    "data_train['applicationType'].value_counts()#离散型变量"
   ]
  },
  {
   "cell_type": "code",
   "execution_count": 37,
   "metadata": {},
   "outputs": [
    {
     "data": {
      "text/plain": [
       "1.0    800000\n",
       "Name: policyCode, dtype: int64"
      ]
     },
     "execution_count": 37,
     "metadata": {},
     "output_type": "execute_result"
    }
   ],
   "source": [
    "data_train['policyCode'].value_counts()#离散型变量，无用，全部一个值"
   ]
  },
  {
   "cell_type": "code",
   "execution_count": 38,
   "metadata": {},
   "outputs": [
    {
     "data": {
      "text/plain": [
       "0.0    729682\n",
       "1.0       540\n",
       "2.0        24\n",
       "4.0         1\n",
       "3.0         1\n",
       "Name: n11, dtype: int64"
      ]
     },
     "execution_count": 38,
     "metadata": {},
     "output_type": "execute_result"
    }
   ],
   "source": [
    "data_train['n11'].value_counts()#离散型变量，相差悬殊，用不用再分析"
   ]
  },
  {
   "cell_type": "code",
   "execution_count": 39,
   "metadata": {},
   "outputs": [
    {
     "data": {
      "text/plain": [
       "0.0    757315\n",
       "1.0      2281\n",
       "2.0       115\n",
       "3.0        16\n",
       "4.0         3\n",
       "Name: n12, dtype: int64"
      ]
     },
     "execution_count": 39,
     "metadata": {},
     "output_type": "execute_result"
    }
   ],
   "source": [
    "data_train['n12'].value_counts()#离散型变量，相差悬殊，用不用再分析"
   ]
  },
  {
   "cell_type": "markdown",
   "metadata": {},
   "source": [
    "数值连续型变量分析"
   ]
  },
  {
   "cell_type": "code",
   "execution_count": 40,
   "metadata": {},
   "outputs": [
    {
     "data": {
      "image/png": "[encoded data removed]",
      "text/plain": [
       "<Figure size 432x3672 with 33 Axes>"
      ]
     },
     "metadata": {},
     "output_type": "display_data"
    }
   ],
   "source": [
    "#每个数字特征得分布可视化\n",
    "f = pd.melt(data_train, value_vars=numerical_serial_fea)\n",
    "g = sns.FacetGrid(f, col=\"variable\",  col_wrap=2, sharex=False, sharey=False)\n",
    "g = g.map(sns.distplot, \"value\")"
   ]
  },
  {
   "cell_type": "markdown",
   "metadata": {},
   "source": [
    "* 查看某一个数值型变量的分布，查看变量是否符合正态分布，如果不符合正太分布的变量可以log化后再观察下是否符合正态分布。\n",
    "* 如果想统一处理一批数据变标准化 必须把这些之前已经正态化的数据提出\n",
    "* 正态化的原因：一些情况下正态非正态可以让模型更快的收敛，一些模型要求数据正态（eg. GMM、KNN）,保证数据不要过偏态即可，过于偏态可能会影响模型预测结果。"
   ]
  },
  {
   "cell_type": "code",
   "execution_count": 41,
   "metadata": {},
   "outputs": [
    {
     "data": {
      "text/plain": [
       "Text(0, 0.5, 'Probability')"
      ]
     },
     "execution_count": 41,
     "metadata": {},
     "output_type": "execute_result"
    },
    {
     "data": {
      "image/png": "[encoded data removed]",
      "text/plain": [
       "<Figure size 1152x864 with 2 Axes>"
      ]
     },
     "metadata": {},
     "output_type": "display_data"
    }
   ],
   "source": [
    "#Ploting Transaction Amount Values Distribution\n",
    "plt.figure(figsize=(16,12))\n",
    "plt.suptitle('Transaction Values Distribution', fontsize=22)\n",
    "plt.subplot(221)\n",
    "sub_plot_1 = sns.distplot(data_train['loanAmnt'])\n",
    "sub_plot_1.set_title(\"loanAmnt Distribuition\", fontsize=18)\n",
    "sub_plot_1.set_xlabel(\"\")\n",
    "sub_plot_1.set_ylabel(\"Probability\", fontsize=15)\n",
    "\n",
    "plt.subplot(222)\n",
    "sub_plot_2 = sns.distplot(np.log(data_train['loanAmnt']))\n",
    "sub_plot_2.set_title(\"loanAmnt (Log) Distribuition\", fontsize=18)\n",
    "sub_plot_2.set_xlabel(\"\")\n",
    "sub_plot_2.set_ylabel(\"Probability\", fontsize=15)"
   ]
  },
  {
   "cell_type": "markdown",
   "metadata": {},
   "source": [
    "非数值类别型变量分析"
   ]
  },
  {
   "cell_type": "code",
   "execution_count": 44,
   "metadata": {},
   "outputs": [
    {
     "data": {
      "text/plain": [
       "['grade', 'subGrade', 'employmentLength', 'issueDate', 'earliesCreditLine']"
      ]
     },
     "execution_count": 44,
     "metadata": {},
     "output_type": "execute_result"
    }
   ],
   "source": [
    "category_fea"
   ]
  },
  {
   "cell_type": "code",
   "execution_count": 45,
   "metadata": {},
   "outputs": [
    {
     "data": {
      "text/plain": [
       "B    233690\n",
       "C    227118\n",
       "A    139661\n",
       "D    119453\n",
       "E     55661\n",
       "F     19053\n",
       "G      5364\n",
       "Name: grade, dtype: int64"
      ]
     },
     "execution_count": 45,
     "metadata": {},
     "output_type": "execute_result"
    }
   ],
   "source": [
    "data_train['grade'].value_counts()"
   ]
  },
  {
   "cell_type": "code",
   "execution_count": 46,
   "metadata": {},
   "outputs": [
    {
     "data": {
      "text/plain": [
       "C1    50763\n",
       "B4    49516\n",
       "B5    48965\n",
       "B3    48600\n",
       "C2    47068\n",
       "C3    44751\n",
       "C4    44272\n",
       "B2    44227\n",
       "B1    42382\n",
       "C5    40264\n",
       "A5    38045\n",
       "A4    30928\n",
       "D1    30538\n",
       "D2    26528\n",
       "A1    25909\n",
       "D3    23410\n",
       "A3    22655\n",
       "A2    22124\n",
       "D4    21139\n",
       "D5    17838\n",
       "E1    14064\n",
       "E2    12746\n",
       "E3    10925\n",
       "E4     9273\n",
       "E5     8653\n",
       "F1     5925\n",
       "F2     4340\n",
       "F3     3577\n",
       "F4     2859\n",
       "F5     2352\n",
       "G1     1759\n",
       "G2     1231\n",
       "G3      978\n",
       "G4      751\n",
       "G5      645\n",
       "Name: subGrade, dtype: int64"
      ]
     },
     "execution_count": 46,
     "metadata": {},
     "output_type": "execute_result"
    }
   ],
   "source": [
    "data_train['subGrade'].value_counts()"
   ]
  },
  {
   "cell_type": "code",
   "execution_count": 47,
   "metadata": {},
   "outputs": [
    {
     "data": {
      "text/plain": [
       "10+ years    262753\n",
       "2 years       72358\n",
       "< 1 year      64237\n",
       "3 years       64152\n",
       "1 year        52489\n",
       "5 years       50102\n",
       "4 years       47985\n",
       "6 years       37254\n",
       "8 years       36192\n",
       "7 years       35407\n",
       "9 years       30272\n",
       "Name: employmentLength, dtype: int64"
      ]
     },
     "execution_count": 47,
     "metadata": {},
     "output_type": "execute_result"
    }
   ],
   "source": [
    "data_train['employmentLength'].value_counts()"
   ]
  },
  {
   "cell_type": "code",
   "execution_count": 48,
   "metadata": {},
   "outputs": [
    {
     "data": {
      "text/plain": [
       "2016-03-01    29066\n",
       "2015-10-01    25525\n",
       "2015-07-01    24496\n",
       "2015-12-01    23245\n",
       "2014-10-01    21461\n",
       "              ...  \n",
       "2007-08-01       23\n",
       "2007-07-01       21\n",
       "2008-09-01       19\n",
       "2007-09-01        7\n",
       "2007-06-01        1\n",
       "Name: issueDate, Length: 139, dtype: int64"
      ]
     },
     "execution_count": 48,
     "metadata": {},
     "output_type": "execute_result"
    }
   ],
   "source": [
    "data_train['issueDate'].value_counts()"
   ]
  },
  {
   "cell_type": "code",
   "execution_count": 49,
   "metadata": {},
   "outputs": [
    {
     "data": {
      "text/plain": [
       "Aug-2001    5567\n",
       "Aug-2002    5403\n",
       "Sep-2003    5403\n",
       "Oct-2001    5258\n",
       "Aug-2000    5246\n",
       "            ... \n",
       "Sep-1957       1\n",
       "Jul-1955       1\n",
       "Jun-1958       1\n",
       "Nov-1953       1\n",
       "Feb-1960       1\n",
       "Name: earliesCreditLine, Length: 720, dtype: int64"
      ]
     },
     "execution_count": 49,
     "metadata": {},
     "output_type": "execute_result"
    }
   ],
   "source": [
    "data_train['earliesCreditLine'].value_counts()"
   ]
  },
  {
   "cell_type": "code",
   "execution_count": 50,
   "metadata": {},
   "outputs": [
    {
     "data": {
      "text/plain": [
       "0    640390\n",
       "1    159610\n",
       "Name: isDefault, dtype: int64"
      ]
     },
     "execution_count": 50,
     "metadata": {},
     "output_type": "execute_result"
    }
   ],
   "source": [
    "data_train['isDefault'].value_counts()"
   ]
  },
  {
   "cell_type": "markdown",
   "metadata": {},
   "source": [
    "## 变量分布可视化"
   ]
  },
  {
   "cell_type": "markdown",
   "metadata": {},
   "source": [
    "单一变量分布可视化"
   ]
  },
  {
   "cell_type": "code",
   "execution_count": 51,
   "metadata": {},
   "outputs": [
    {
     "data": {
      "image/png": "[encoded data removed]",
      "text/plain": [
       "<Figure size 576x576 with 1 Axes>"
      ]
     },
     "metadata": {},
     "output_type": "display_data"
    }
   ],
   "source": [
    "plt.figure(figsize=(8, 8))\n",
    "sns.barplot(data_train[\"employmentLength\"].value_counts(dropna=False)[:20],\n",
    "            data_train[\"employmentLength\"].value_counts(dropna=False).keys()[:20])\n",
    "plt.show()"
   ]
  },
  {
   "cell_type": "code",
   "execution_count": 52,
   "metadata": {},
   "outputs": [],
   "source": [
    "train_loan_fr = data_train.loc[data_train['isDefault'] == 1]\n",
    "train_loan_nofr = data_train.loc[data_train['isDefault'] == 0]"
   ]
  },
  {
   "cell_type": "code",
   "execution_count": 53,
   "metadata": {},
   "outputs": [
    {
     "data": {
      "image/png": "[encoded data removed]",
      "text/plain": [
       "<Figure size 1080x576 with 4 Axes>"
      ]
     },
     "metadata": {},
     "output_type": "display_data"
    }
   ],
   "source": [
    "fig, ((ax1, ax2), (ax3, ax4)) = plt.subplots(2, 2, figsize=(15, 8))\n",
    "train_loan_fr.groupby('grade')['grade'].count().plot(kind='barh', ax=ax1, title='Count of grade fraud')\n",
    "train_loan_nofr.groupby('grade')['grade'].count().plot(kind='barh', ax=ax2, title='Count of grade non-fraud')\n",
    "train_loan_fr.groupby('employmentLength')['employmentLength'].count().plot(kind='barh', ax=ax3, title='Count of employmentLength fraud')\n",
    "train_loan_nofr.groupby('employmentLength')['employmentLength'].count().plot(kind='barh', ax=ax4, title='Count of employmentLength non-fraud')\n",
    "plt.show()"
   ]
  },
  {
   "cell_type": "code",
   "execution_count": 54,
   "metadata": {},
   "outputs": [
    {
     "data": {
      "text/plain": [
       "<AxesSubplot:title={'center':'Log Loan Amt - Not Fraud'}, ylabel='Frequency'>"
      ]
     },
     "execution_count": 54,
     "metadata": {},
     "output_type": "execute_result"
    },
    {
     "data": {
      "image/png": "[encoded data removed]",
      "text/plain": [
       "<Figure size 1080x432 with 2 Axes>"
      ]
     },
     "metadata": {},
     "output_type": "display_data"
    }
   ],
   "source": [
    "fig, ((ax1, ax2)) = plt.subplots(1, 2, figsize=(15, 6))\n",
    "data_train.loc[data_train['isDefault'] == 1] \\\n",
    "    ['loanAmnt'].apply(np.log) \\\n",
    "    .plot(kind='hist',\n",
    "          bins=100,\n",
    "          title='Log Loan Amt - Fraud',\n",
    "          color='r',\n",
    "          xlim=(-3, 10),\n",
    "         ax= ax1)\n",
    "data_train.loc[data_train['isDefault'] == 0] \\\n",
    "    ['loanAmnt'].apply(np.log) \\\n",
    "    .plot(kind='hist',\n",
    "          bins=100,\n",
    "          title='Log Loan Amt - Not Fraud',\n",
    "          color='b',\n",
    "          xlim=(-3, 10),\n",
    "         ax=ax2)"
   ]
  },
  {
   "cell_type": "code",
   "execution_count": 55,
   "metadata": {},
   "outputs": [
    {
     "data": {
      "image/png": "[encoded data removed]",
      "text/plain": [
       "<Figure size 864x360 with 2 Axes>"
      ]
     },
     "metadata": {},
     "output_type": "display_data"
    }
   ],
   "source": [
    "total = len(data_train)\n",
    "total_amt = data_train.groupby(['isDefault'])['loanAmnt'].sum().sum()\n",
    "plt.figure(figsize=(12,5))\n",
    "plt.subplot(121)##1代表行，2代表列，所以一共有2个图，1代表此时绘制第一个图。\n",
    "plot_tr = sns.countplot(x='isDefault',data=data_train)#data_train‘isDefault’这个特征每种类别的数量**\n",
    "plot_tr.set_title(\"Fraud Loan Distribution \\n 0: good user | 1: bad user\", fontsize=14)\n",
    "plot_tr.set_xlabel(\"Is fraud by count\", fontsize=16)\n",
    "plot_tr.set_ylabel('Count', fontsize=16)\n",
    "for p in plot_tr.patches:\n",
    "    height = p.get_height()\n",
    "    plot_tr.text(p.get_x()+p.get_width()/2.,\n",
    "            height + 3,\n",
    "            '{:1.2f}%'.format(height/total*100),\n",
    "            ha=\"center\", fontsize=15) \n",
    "    \n",
    "percent_amt = (data_train.groupby(['isDefault'])['loanAmnt'].sum())\n",
    "percent_amt = percent_amt.reset_index()\n",
    "plt.subplot(122)\n",
    "plot_tr_2 = sns.barplot(x='isDefault', y='loanAmnt',  dodge=True, data=percent_amt)\n",
    "plot_tr_2.set_title(\"Total Amount in loanAmnt  \\n 0: good user | 1: bad user\", fontsize=14)\n",
    "plot_tr_2.set_xlabel(\"Is fraud by percent\", fontsize=16)\n",
    "plot_tr_2.set_ylabel('Total Loan Amount Scalar', fontsize=16)\n",
    "for p in plot_tr_2.patches:\n",
    "    height = p.get_height()\n",
    "    plot_tr_2.text(p.get_x()+p.get_width()/2.,\n",
    "            height + 3,\n",
    "            '{:1.2f}%'.format(height/total_amt * 100),\n",
    "            ha=\"center\", fontsize=15)   "
   ]
  },
  {
   "cell_type": "markdown",
   "metadata": {},
   "source": [
    "时间格式数据处理及查看"
   ]
  },
  {
   "cell_type": "code",
   "execution_count": 56,
   "metadata": {},
   "outputs": [],
   "source": [
    "#转化成时间格式  issueDateDT特征表示数据日期离数据集中日期最早的日期（2007-06-01）的天数\n",
    "data_train['issueDate'] = pd.to_datetime(data_train['issueDate'],format='%Y-%m-%d')\n",
    "startdate = datetime.datetime.strptime('2007-06-01', '%Y-%m-%d')\n",
    "data_train['issueDateDT'] = data_train['issueDate'].apply(lambda x: x-startdate).dt.days"
   ]
  },
  {
   "cell_type": "code",
   "execution_count": 57,
   "metadata": {},
   "outputs": [],
   "source": [
    "#转化成时间格式\n",
    "data_test_a['issueDate'] = pd.to_datetime(data_train['issueDate'],format='%Y-%m-%d')\n",
    "startdate = datetime.datetime.strptime('2007-06-01', '%Y-%m-%d')\n",
    "data_test_a['issueDateDT'] = data_test_a['issueDate'].apply(lambda x: x-startdate).dt.days"
   ]
  },
  {
   "cell_type": "code",
   "execution_count": 58,
   "metadata": {},
   "outputs": [
    {
     "data": {
      "image/png": "[encoded data removed]",
      "text/plain": [
       "<Figure size 432x288 with 1 Axes>"
      ]
     },
     "metadata": {},
     "output_type": "display_data"
    }
   ],
   "source": [
    "plt.hist(data_train['issueDateDT'], label='train');\n",
    "plt.hist(data_test_a['issueDateDT'], label='test');\n",
    "plt.legend();\n",
    "plt.title('Distribution of issueDateDT dates');\n",
    "#train 和 test issueDateDT 日期有重叠 所以使用基于时间的分割进行验证是不明智的"
   ]
  },
  {
   "cell_type": "code",
   "execution_count": 59,
   "metadata": {},
   "outputs": [
    {
     "data": {
      "text/plain": [
       "4216"
      ]
     },
     "execution_count": 59,
     "metadata": {},
     "output_type": "execute_result"
    }
   ],
   "source": [
    "gc.collect()"
   ]
  },
  {
   "cell_type": "markdown",
   "metadata": {},
   "source": [
    "掌握透视图可以让我们更好的了解数据"
   ]
  },
  {
   "cell_type": "code",
   "execution_count": 60,
   "metadata": {},
   "outputs": [],
   "source": [
    "#透视图 索引可以有多个，“columns（列）”是可选的，聚合函数aggfunc最后是被应用到了变量“values”中你所列举的项目上。\n",
    "pivot = pd.pivot_table(data_train, index=['grade'], columns=['issueDateDT'], values=['loanAmnt'], aggfunc=np.sum)"
   ]
  },
  {
   "cell_type": "code",
   "execution_count": 61,
   "metadata": {},
   "outputs": [
    {
     "data": {
      "text/html": [
       "<div>\n",
       "<style scoped>\n",
       "    .dataframe tbody tr th:only-of-type {\n",
       "        vertical-align: middle;\n",
       "    }\n",
       "\n",
       "    .dataframe tbody tr th {\n",
       "        vertical-align: top;\n",
       "    }\n",
       "\n",
       "    .dataframe thead tr th {\n",
       "        text-align: left;\n",
       "    }\n",
       "\n",
       "    .dataframe thead tr:last-of-type th {\n",
       "        text-align: right;\n",
       "    }\n",
       "</style>\n",
       "<table border=\"1\" class=\"dataframe\">\n",
       "  <thead>\n",
       "    <tr>\n",
       "      <th></th>\n",
       "      <th colspan=\"21\" halign=\"left\">loanAmnt</th>\n",
       "    </tr>\n",
       "    <tr>\n",
       "      <th>issueDateDT</th>\n",
       "      <th>0</th>\n",
       "      <th>30</th>\n",
       "      <th>61</th>\n",
       "      <th>92</th>\n",
       "      <th>122</th>\n",
       "      <th>153</th>\n",
       "      <th>183</th>\n",
       "      <th>214</th>\n",
       "      <th>245</th>\n",
       "      <th>274</th>\n",
       "      <th>...</th>\n",
       "      <th>3926</th>\n",
       "      <th>3957</th>\n",
       "      <th>3987</th>\n",
       "      <th>4018</th>\n",
       "      <th>4048</th>\n",
       "      <th>4079</th>\n",
       "      <th>4110</th>\n",
       "      <th>4140</th>\n",
       "      <th>4171</th>\n",
       "      <th>4201</th>\n",
       "    </tr>\n",
       "    <tr>\n",
       "      <th>grade</th>\n",
       "      <th></th>\n",
       "      <th></th>\n",
       "      <th></th>\n",
       "      <th></th>\n",
       "      <th></th>\n",
       "      <th></th>\n",
       "      <th></th>\n",
       "      <th></th>\n",
       "      <th></th>\n",
       "      <th></th>\n",
       "      <th></th>\n",
       "      <th></th>\n",
       "      <th></th>\n",
       "      <th></th>\n",
       "      <th></th>\n",
       "      <th></th>\n",
       "      <th></th>\n",
       "      <th></th>\n",
       "      <th></th>\n",
       "      <th></th>\n",
       "      <th></th>\n",
       "    </tr>\n",
       "  </thead>\n",
       "  <tbody>\n",
       "    <tr>\n",
       "      <th>A</th>\n",
       "      <td>NaN</td>\n",
       "      <td>53650.0</td>\n",
       "      <td>42000.0</td>\n",
       "      <td>19500.0</td>\n",
       "      <td>34425.0</td>\n",
       "      <td>63950.0</td>\n",
       "      <td>43500.0</td>\n",
       "      <td>168825.0</td>\n",
       "      <td>85600.0</td>\n",
       "      <td>101825.0</td>\n",
       "      <td>...</td>\n",
       "      <td>13093850.0</td>\n",
       "      <td>11757325.0</td>\n",
       "      <td>11945975.0</td>\n",
       "      <td>9144000.0</td>\n",
       "      <td>7977650.0</td>\n",
       "      <td>6888900.0</td>\n",
       "      <td>5109800.0</td>\n",
       "      <td>3919275.0</td>\n",
       "      <td>2694025.0</td>\n",
       "      <td>2245625.0</td>\n",
       "    </tr>\n",
       "    <tr>\n",
       "      <th>B</th>\n",
       "      <td>NaN</td>\n",
       "      <td>13000.0</td>\n",
       "      <td>24000.0</td>\n",
       "      <td>32125.0</td>\n",
       "      <td>7025.0</td>\n",
       "      <td>95750.0</td>\n",
       "      <td>164300.0</td>\n",
       "      <td>303175.0</td>\n",
       "      <td>434425.0</td>\n",
       "      <td>538450.0</td>\n",
       "      <td>...</td>\n",
       "      <td>16863100.0</td>\n",
       "      <td>17275175.0</td>\n",
       "      <td>16217500.0</td>\n",
       "      <td>11431350.0</td>\n",
       "      <td>8967750.0</td>\n",
       "      <td>7572725.0</td>\n",
       "      <td>4884600.0</td>\n",
       "      <td>4329400.0</td>\n",
       "      <td>3922575.0</td>\n",
       "      <td>3257100.0</td>\n",
       "    </tr>\n",
       "    <tr>\n",
       "      <th>C</th>\n",
       "      <td>NaN</td>\n",
       "      <td>68750.0</td>\n",
       "      <td>8175.0</td>\n",
       "      <td>10000.0</td>\n",
       "      <td>61800.0</td>\n",
       "      <td>52550.0</td>\n",
       "      <td>175375.0</td>\n",
       "      <td>151100.0</td>\n",
       "      <td>243725.0</td>\n",
       "      <td>393150.0</td>\n",
       "      <td>...</td>\n",
       "      <td>17502375.0</td>\n",
       "      <td>17471500.0</td>\n",
       "      <td>16111225.0</td>\n",
       "      <td>11973675.0</td>\n",
       "      <td>10184450.0</td>\n",
       "      <td>7765000.0</td>\n",
       "      <td>5354450.0</td>\n",
       "      <td>4552600.0</td>\n",
       "      <td>2870050.0</td>\n",
       "      <td>2246250.0</td>\n",
       "    </tr>\n",
       "    <tr>\n",
       "      <th>D</th>\n",
       "      <td>NaN</td>\n",
       "      <td>NaN</td>\n",
       "      <td>5500.0</td>\n",
       "      <td>2850.0</td>\n",
       "      <td>28625.0</td>\n",
       "      <td>NaN</td>\n",
       "      <td>167975.0</td>\n",
       "      <td>171325.0</td>\n",
       "      <td>192900.0</td>\n",
       "      <td>269325.0</td>\n",
       "      <td>...</td>\n",
       "      <td>11403075.0</td>\n",
       "      <td>10964150.0</td>\n",
       "      <td>10747675.0</td>\n",
       "      <td>7082050.0</td>\n",
       "      <td>7189625.0</td>\n",
       "      <td>5195700.0</td>\n",
       "      <td>3455175.0</td>\n",
       "      <td>3038500.0</td>\n",
       "      <td>2452375.0</td>\n",
       "      <td>1771750.0</td>\n",
       "    </tr>\n",
       "    <tr>\n",
       "      <th>E</th>\n",
       "      <td>7500.0</td>\n",
       "      <td>NaN</td>\n",
       "      <td>10000.0</td>\n",
       "      <td>NaN</td>\n",
       "      <td>17975.0</td>\n",
       "      <td>1500.0</td>\n",
       "      <td>94375.0</td>\n",
       "      <td>116450.0</td>\n",
       "      <td>42000.0</td>\n",
       "      <td>139775.0</td>\n",
       "      <td>...</td>\n",
       "      <td>3983050.0</td>\n",
       "      <td>3410125.0</td>\n",
       "      <td>3107150.0</td>\n",
       "      <td>2341825.0</td>\n",
       "      <td>2225675.0</td>\n",
       "      <td>1643675.0</td>\n",
       "      <td>1091025.0</td>\n",
       "      <td>1131625.0</td>\n",
       "      <td>883950.0</td>\n",
       "      <td>802425.0</td>\n",
       "    </tr>\n",
       "    <tr>\n",
       "      <th>F</th>\n",
       "      <td>NaN</td>\n",
       "      <td>NaN</td>\n",
       "      <td>31250.0</td>\n",
       "      <td>2125.0</td>\n",
       "      <td>NaN</td>\n",
       "      <td>NaN</td>\n",
       "      <td>NaN</td>\n",
       "      <td>49000.0</td>\n",
       "      <td>27000.0</td>\n",
       "      <td>43000.0</td>\n",
       "      <td>...</td>\n",
       "      <td>1074175.0</td>\n",
       "      <td>868925.0</td>\n",
       "      <td>761675.0</td>\n",
       "      <td>685325.0</td>\n",
       "      <td>665750.0</td>\n",
       "      <td>685200.0</td>\n",
       "      <td>316700.0</td>\n",
       "      <td>315075.0</td>\n",
       "      <td>72300.0</td>\n",
       "      <td>NaN</td>\n",
       "    </tr>\n",
       "    <tr>\n",
       "      <th>G</th>\n",
       "      <td>NaN</td>\n",
       "      <td>NaN</td>\n",
       "      <td>NaN</td>\n",
       "      <td>NaN</td>\n",
       "      <td>NaN</td>\n",
       "      <td>NaN</td>\n",
       "      <td>NaN</td>\n",
       "      <td>24625.0</td>\n",
       "      <td>NaN</td>\n",
       "      <td>NaN</td>\n",
       "      <td>...</td>\n",
       "      <td>56100.0</td>\n",
       "      <td>243275.0</td>\n",
       "      <td>224825.0</td>\n",
       "      <td>64050.0</td>\n",
       "      <td>198575.0</td>\n",
       "      <td>245825.0</td>\n",
       "      <td>53125.0</td>\n",
       "      <td>23750.0</td>\n",
       "      <td>25100.0</td>\n",
       "      <td>1000.0</td>\n",
       "    </tr>\n",
       "  </tbody>\n",
       "</table>\n",
       "<p>7 rows × 139 columns</p>\n",
       "</div>"
      ],
      "text/plain": [
       "            loanAmnt                                                         \\\n",
       "issueDateDT     0        30       61       92       122      153       183    \n",
       "grade                                                                         \n",
       "A                NaN  53650.0  42000.0  19500.0  34425.0  63950.0   43500.0   \n",
       "B                NaN  13000.0  24000.0  32125.0   7025.0  95750.0  164300.0   \n",
       "C                NaN  68750.0   8175.0  10000.0  61800.0  52550.0  175375.0   \n",
       "D                NaN      NaN   5500.0   2850.0  28625.0      NaN  167975.0   \n",
       "E             7500.0      NaN  10000.0      NaN  17975.0   1500.0   94375.0   \n",
       "F                NaN      NaN  31250.0   2125.0      NaN      NaN       NaN   \n",
       "G                NaN      NaN      NaN      NaN      NaN      NaN       NaN   \n",
       "\n",
       "                                           ...                          \\\n",
       "issueDateDT      214       245       274   ...        3926        3957   \n",
       "grade                                      ...                           \n",
       "A            168825.0   85600.0  101825.0  ...  13093850.0  11757325.0   \n",
       "B            303175.0  434425.0  538450.0  ...  16863100.0  17275175.0   \n",
       "C            151100.0  243725.0  393150.0  ...  17502375.0  17471500.0   \n",
       "D            171325.0  192900.0  269325.0  ...  11403075.0  10964150.0   \n",
       "E            116450.0   42000.0  139775.0  ...   3983050.0   3410125.0   \n",
       "F             49000.0   27000.0   43000.0  ...   1074175.0    868925.0   \n",
       "G             24625.0       NaN       NaN  ...     56100.0    243275.0   \n",
       "\n",
       "                                                                       \\\n",
       "issueDateDT        3987        4018        4048       4079       4110   \n",
       "grade                                                                   \n",
       "A            11945975.0   9144000.0   7977650.0  6888900.0  5109800.0   \n",
       "B            16217500.0  11431350.0   8967750.0  7572725.0  4884600.0   \n",
       "C            16111225.0  11973675.0  10184450.0  7765000.0  5354450.0   \n",
       "D            10747675.0   7082050.0   7189625.0  5195700.0  3455175.0   \n",
       "E             3107150.0   2341825.0   2225675.0  1643675.0  1091025.0   \n",
       "F              761675.0    685325.0    665750.0   685200.0   316700.0   \n",
       "G              224825.0     64050.0    198575.0   245825.0    53125.0   \n",
       "\n",
       "                                              \n",
       "issueDateDT       4140       4171       4201  \n",
       "grade                                         \n",
       "A            3919275.0  2694025.0  2245625.0  \n",
       "B            4329400.0  3922575.0  3257100.0  \n",
       "C            4552600.0  2870050.0  2246250.0  \n",
       "D            3038500.0  2452375.0  1771750.0  \n",
       "E            1131625.0   883950.0   802425.0  \n",
       "F             315075.0    72300.0        NaN  \n",
       "G              23750.0    25100.0     1000.0  \n",
       "\n",
       "[7 rows x 139 columns]"
      ]
     },
     "execution_count": 61,
     "metadata": {},
     "output_type": "execute_result"
    }
   ],
   "source": [
    "pivot"
   ]
  },
  {
   "cell_type": "markdown",
   "metadata": {},
   "source": [
    "pandas_profiling生成数据报告"
   ]
  },
  {
   "cell_type": "code",
   "execution_count": 62,
   "metadata": {},
   "outputs": [],
   "source": [
    "import pandas_profiling"
   ]
  },
  {
   "cell_type": "code",
   "execution_count": 63,
   "metadata": {},
   "outputs": [
    {
     "data": {
      "application/vnd.jupyter.widget-view+json": {
       "model_id": "6c465059096e4ee6a1b750861b78d77e",
       "version_major": 2,
       "version_minor": 0
      },
      "text/html": [
       "<p>Failed to display Jupyter Widget of type <code>TqdmHBox</code>.</p>\n",
       "<p>\n",
       "  If you're reading this message in the Jupyter Notebook or JupyterLab Notebook, it may mean\n",
       "  that the widgets JavaScript is still loading. If this message persists, it\n",
       "  likely means that the widgets JavaScript library is either not installed or\n",
       "  not enabled. See the <a href=\"https://ipywidgets.readthedocs.io/en/stable/user_install.html\">Jupyter\n",
       "  Widgets Documentation</a> for setup instructions.\n",
       "</p>\n",
       "<p>\n",
       "  If you're reading this message in another frontend (for example, a static\n",
       "  rendering on GitHub or <a href=\"https://nbviewer.jupyter.org/\">NBViewer</a>),\n",
       "  it may mean that your frontend doesn't currently support widgets.\n",
       "</p>\n"
      ],
      "text/plain": [
       "Summarize dataset:   0%|          | 0/61 [00:00<?, ?it/s]"
      ]
     },
     "metadata": {},
     "output_type": "display_data"
    },
    {
     "data": {
      "application/vnd.jupyter.widget-view+json": {
       "model_id": "9a1eb5579fb1491598f1a6c5190258c0",
       "version_major": 2,
       "version_minor": 0
      },
      "text/html": [
       "<p>Failed to display Jupyter Widget of type <code>TqdmHBox</code>.</p>\n",
       "<p>\n",
       "  If you're reading this message in the Jupyter Notebook or JupyterLab Notebook, it may mean\n",
       "  that the widgets JavaScript is still loading. If this message persists, it\n",
       "  likely means that the widgets JavaScript library is either not installed or\n",
       "  not enabled. See the <a href=\"https://ipywidgets.readthedocs.io/en/stable/user_install.html\">Jupyter\n",
       "  Widgets Documentation</a> for setup instructions.\n",
       "</p>\n",
       "<p>\n",
       "  If you're reading this message in another frontend (for example, a static\n",
       "  rendering on GitHub or <a href=\"https://nbviewer.jupyter.org/\">NBViewer</a>),\n",
       "  it may mean that your frontend doesn't currently support widgets.\n",
       "</p>\n"
      ],
      "text/plain": [
       "Generate report structure:   0%|          | 0/1 [00:00<?, ?it/s]"
      ]
     },
     "metadata": {},
     "output_type": "display_data"
    },
    {
     "data": {
      "application/vnd.jupyter.widget-view+json": {
       "model_id": "e6af2ca2dcd64603b8bdf18db0725da3",
       "version_major": 2,
       "version_minor": 0
      },
      "text/html": [
       "<p>Failed to display Jupyter Widget of type <code>TqdmHBox</code>.</p>\n",
       "<p>\n",
       "  If you're reading this message in the Jupyter Notebook or JupyterLab Notebook, it may mean\n",
       "  that the widgets JavaScript is still loading. If this message persists, it\n",
       "  likely means that the widgets JavaScript library is either not installed or\n",
       "  not enabled. See the <a href=\"https://ipywidgets.readthedocs.io/en/stable/user_install.html\">Jupyter\n",
       "  Widgets Documentation</a> for setup instructions.\n",
       "</p>\n",
       "<p>\n",
       "  If you're reading this message in another frontend (for example, a static\n",
       "  rendering on GitHub or <a href=\"https://nbviewer.jupyter.org/\">NBViewer</a>),\n",
       "  it may mean that your frontend doesn't currently support widgets.\n",
       "</p>\n"
      ],
      "text/plain": [
       "Render HTML:   0%|          | 0/1 [00:00<?, ?it/s]"
      ]
     },
     "metadata": {},
     "output_type": "display_data"
    },
    {
     "data": {
      "application/vnd.jupyter.widget-view+json": {
       "model_id": "7590548d579e47abb7afd7585deb229e",
       "version_major": 2,
       "version_minor": 0
      },
      "text/html": [
       "<p>Failed to display Jupyter Widget of type <code>TqdmHBox</code>.</p>\n",
       "<p>\n",
       "  If you're reading this message in the Jupyter Notebook or JupyterLab Notebook, it may mean\n",
       "  that the widgets JavaScript is still loading. If this message persists, it\n",
       "  likely means that the widgets JavaScript library is either not installed or\n",
       "  not enabled. See the <a href=\"https://ipywidgets.readthedocs.io/en/stable/user_install.html\">Jupyter\n",
       "  Widgets Documentation</a> for setup instructions.\n",
       "</p>\n",
       "<p>\n",
       "  If you're reading this message in another frontend (for example, a static\n",
       "  rendering on GitHub or <a href=\"https://nbviewer.jupyter.org/\">NBViewer</a>),\n",
       "  it may mean that your frontend doesn't currently support widgets.\n",
       "</p>\n"
      ],
      "text/plain": [
       "Export report to file:   0%|          | 0/1 [00:00<?, ?it/s]"
      ]
     },
     "metadata": {},
     "output_type": "display_data"
    }
   ],
   "source": [
    "pfr = pandas_profiling.ProfileReport(data_train)\n",
    "pfr.to_file(\"./example.html\")"
   ]
  },
  {
   "cell_type": "markdown",
   "metadata": {},
   "source": [
    "# 特征工程"
   ]
  },
  {
   "cell_type": "code",
   "execution_count": 4,
   "metadata": {},
   "outputs": [],
   "source": [
    "numerical_fea = list(data_train.select_dtypes(exclude=['object']).columns)\n",
    "category_fea = list(filter(lambda x: x not in numerical_fea,list(data_train.columns)))\n",
    "label = 'isDefault'\n",
    "numerical_fea.remove(label)"
   ]
  },
  {
   "cell_type": "code",
   "execution_count": 5,
   "metadata": {},
   "outputs": [],
   "source": [
    "data_tmp = pd.concat([data_train, data_test_a], axis=0, ignore_index=True)"
   ]
  },
  {
   "cell_type": "code",
   "execution_count": 6,
   "metadata": {},
   "outputs": [],
   "source": [
    "def reduce_mem_usage(df):\n",
    "    start_mem = df.memory_usage().sum() \n",
    "    print('Memory usage of dataframe is {:.2f} MB'.format(start_mem))\n",
    "    \n",
    "    for col in df.columns:\n",
    "        col_type = df[col].dtype\n",
    "        \n",
    "        if col_type != object:\n",
    "            c_min = df[col].min()\n",
    "            c_max = df[col].max()\n",
    "            if str(col_type)[:3] == 'int':\n",
    "                if c_min > np.iinfo(np.int8).min and c_max < np.iinfo(np.int8).max:\n",
    "                    df[col] = df[col].astype(np.int8)\n",
    "                elif c_min > np.iinfo(np.int16).min and c_max < np.iinfo(np.int16).max:\n",
    "                    df[col] = df[col].astype(np.int16)\n",
    "                elif c_min > np.iinfo(np.int32).min and c_max < np.iinfo(np.int32).max:\n",
    "                    df[col] = df[col].astype(np.int32)\n",
    "                elif c_min > np.iinfo(np.int64).min and c_max < np.iinfo(np.int64).max:\n",
    "                    df[col] = df[col].astype(np.int64)  \n",
    "            else:\n",
    "                if c_min > np.finfo(np.float16).min and c_max < np.finfo(np.float16).max:\n",
    "                    df[col] = df[col].astype(np.float16)\n",
    "                elif c_min > np.finfo(np.float32).min and c_max < np.finfo(np.float32).max:\n",
    "                    df[col] = df[col].astype(np.float32)\n",
    "                else:\n",
    "                    df[col] = df[col].astype(np.float64)\n",
    "        else:\n",
    "            df[col] = df[col].astype('category')\n",
    "\n",
    "    end_mem = df.memory_usage().sum() \n",
    "    print('Memory usage after optimization is: {:.2f} MB'.format(end_mem))\n",
    "    print('Decreased by {:.1f}%'.format(100 * (start_mem - end_mem) / start_mem))\n",
    "    \n",
    "    return df"
   ]
  },
  {
   "cell_type": "code",
   "execution_count": 7,
   "metadata": {},
   "outputs": [
    {
     "data": {
      "text/plain": [
       "31"
      ]
     },
     "execution_count": 7,
     "metadata": {},
     "output_type": "execute_result"
    }
   ],
   "source": [
    "gc.collect()"
   ]
  },
  {
   "cell_type": "code",
   "execution_count": 8,
   "metadata": {},
   "outputs": [],
   "source": [
    "#按照平均数填充数值型特征\n",
    "data_tmp[numerical_fea] = data_tmp[numerical_fea].fillna(data_tmp[numerical_fea].median())\n",
    "# data_test_a[numerical_fea] = data_test_a[numerical_fea].fillna(data_train[numerical_fea].median())\n",
    "#按照众数填充类别型特征\n",
    "data_tmp[category_fea] = data_tmp[category_fea].fillna(data_tmp[category_fea].mode())\n",
    "# data_test_a[category_fea] = data_test_a[category_fea].fillna(data_train[category_fea].mode())"
   ]
  },
  {
   "cell_type": "code",
   "execution_count": 9,
   "metadata": {},
   "outputs": [
    {
     "data": {
      "text/html": [
       "<div>\n",
       "<style scoped>\n",
       "    .dataframe tbody tr th:only-of-type {\n",
       "        vertical-align: middle;\n",
       "    }\n",
       "\n",
       "    .dataframe tbody tr th {\n",
       "        vertical-align: top;\n",
       "    }\n",
       "\n",
       "    .dataframe thead th {\n",
       "        text-align: right;\n",
       "    }\n",
       "</style>\n",
       "<table border=\"1\" class=\"dataframe\">\n",
       "  <thead>\n",
       "    <tr style=\"text-align: right;\">\n",
       "      <th></th>\n",
       "      <th>id</th>\n",
       "      <th>loanAmnt</th>\n",
       "      <th>term</th>\n",
       "      <th>interestRate</th>\n",
       "      <th>installment</th>\n",
       "      <th>grade</th>\n",
       "      <th>subGrade</th>\n",
       "      <th>employmentTitle</th>\n",
       "      <th>employmentLength</th>\n",
       "      <th>homeOwnership</th>\n",
       "      <th>...</th>\n",
       "      <th>n5</th>\n",
       "      <th>n6</th>\n",
       "      <th>n7</th>\n",
       "      <th>n8</th>\n",
       "      <th>n9</th>\n",
       "      <th>n10</th>\n",
       "      <th>n11</th>\n",
       "      <th>n12</th>\n",
       "      <th>n13</th>\n",
       "      <th>n14</th>\n",
       "    </tr>\n",
       "  </thead>\n",
       "  <tbody>\n",
       "    <tr>\n",
       "      <th>0</th>\n",
       "      <td>0</td>\n",
       "      <td>35000.0</td>\n",
       "      <td>5</td>\n",
       "      <td>19.52</td>\n",
       "      <td>917.97</td>\n",
       "      <td>E</td>\n",
       "      <td>E2</td>\n",
       "      <td>320.0</td>\n",
       "      <td>2 years</td>\n",
       "      <td>2</td>\n",
       "      <td>...</td>\n",
       "      <td>9.0</td>\n",
       "      <td>8.0</td>\n",
       "      <td>4.0</td>\n",
       "      <td>12.0</td>\n",
       "      <td>2.0</td>\n",
       "      <td>7.0</td>\n",
       "      <td>0.0</td>\n",
       "      <td>0.0</td>\n",
       "      <td>0.0</td>\n",
       "      <td>2.0</td>\n",
       "    </tr>\n",
       "    <tr>\n",
       "      <th>1</th>\n",
       "      <td>1</td>\n",
       "      <td>18000.0</td>\n",
       "      <td>5</td>\n",
       "      <td>18.49</td>\n",
       "      <td>461.90</td>\n",
       "      <td>D</td>\n",
       "      <td>D2</td>\n",
       "      <td>219843.0</td>\n",
       "      <td>5 years</td>\n",
       "      <td>0</td>\n",
       "      <td>...</td>\n",
       "      <td>7.0</td>\n",
       "      <td>7.0</td>\n",
       "      <td>7.0</td>\n",
       "      <td>13.0</td>\n",
       "      <td>5.0</td>\n",
       "      <td>13.0</td>\n",
       "      <td>0.0</td>\n",
       "      <td>0.0</td>\n",
       "      <td>0.0</td>\n",
       "      <td>2.0</td>\n",
       "    </tr>\n",
       "    <tr>\n",
       "      <th>2</th>\n",
       "      <td>2</td>\n",
       "      <td>12000.0</td>\n",
       "      <td>5</td>\n",
       "      <td>16.99</td>\n",
       "      <td>298.17</td>\n",
       "      <td>D</td>\n",
       "      <td>D3</td>\n",
       "      <td>31698.0</td>\n",
       "      <td>8 years</td>\n",
       "      <td>0</td>\n",
       "      <td>...</td>\n",
       "      <td>0.0</td>\n",
       "      <td>21.0</td>\n",
       "      <td>4.0</td>\n",
       "      <td>5.0</td>\n",
       "      <td>3.0</td>\n",
       "      <td>11.0</td>\n",
       "      <td>0.0</td>\n",
       "      <td>0.0</td>\n",
       "      <td>0.0</td>\n",
       "      <td>4.0</td>\n",
       "    </tr>\n",
       "    <tr>\n",
       "      <th>3</th>\n",
       "      <td>3</td>\n",
       "      <td>11000.0</td>\n",
       "      <td>3</td>\n",
       "      <td>7.26</td>\n",
       "      <td>340.96</td>\n",
       "      <td>A</td>\n",
       "      <td>A4</td>\n",
       "      <td>46854.0</td>\n",
       "      <td>10+ years</td>\n",
       "      <td>1</td>\n",
       "      <td>...</td>\n",
       "      <td>16.0</td>\n",
       "      <td>4.0</td>\n",
       "      <td>7.0</td>\n",
       "      <td>21.0</td>\n",
       "      <td>6.0</td>\n",
       "      <td>9.0</td>\n",
       "      <td>0.0</td>\n",
       "      <td>0.0</td>\n",
       "      <td>0.0</td>\n",
       "      <td>1.0</td>\n",
       "    </tr>\n",
       "    <tr>\n",
       "      <th>4</th>\n",
       "      <td>4</td>\n",
       "      <td>3000.0</td>\n",
       "      <td>3</td>\n",
       "      <td>12.99</td>\n",
       "      <td>101.07</td>\n",
       "      <td>C</td>\n",
       "      <td>C2</td>\n",
       "      <td>54.0</td>\n",
       "      <td>NaN</td>\n",
       "      <td>1</td>\n",
       "      <td>...</td>\n",
       "      <td>4.0</td>\n",
       "      <td>9.0</td>\n",
       "      <td>10.0</td>\n",
       "      <td>15.0</td>\n",
       "      <td>7.0</td>\n",
       "      <td>12.0</td>\n",
       "      <td>0.0</td>\n",
       "      <td>0.0</td>\n",
       "      <td>0.0</td>\n",
       "      <td>4.0</td>\n",
       "    </tr>\n",
       "    <tr>\n",
       "      <th>...</th>\n",
       "      <td>...</td>\n",
       "      <td>...</td>\n",
       "      <td>...</td>\n",
       "      <td>...</td>\n",
       "      <td>...</td>\n",
       "      <td>...</td>\n",
       "      <td>...</td>\n",
       "      <td>...</td>\n",
       "      <td>...</td>\n",
       "      <td>...</td>\n",
       "      <td>...</td>\n",
       "      <td>...</td>\n",
       "      <td>...</td>\n",
       "      <td>...</td>\n",
       "      <td>...</td>\n",
       "      <td>...</td>\n",
       "      <td>...</td>\n",
       "      <td>...</td>\n",
       "      <td>...</td>\n",
       "      <td>...</td>\n",
       "      <td>...</td>\n",
       "    </tr>\n",
       "    <tr>\n",
       "      <th>999995</th>\n",
       "      <td>999995</td>\n",
       "      <td>7000.0</td>\n",
       "      <td>3</td>\n",
       "      <td>11.14</td>\n",
       "      <td>229.64</td>\n",
       "      <td>B</td>\n",
       "      <td>B2</td>\n",
       "      <td>330967.0</td>\n",
       "      <td>7 years</td>\n",
       "      <td>1</td>\n",
       "      <td>...</td>\n",
       "      <td>6.0</td>\n",
       "      <td>11.0</td>\n",
       "      <td>2.0</td>\n",
       "      <td>6.0</td>\n",
       "      <td>2.0</td>\n",
       "      <td>8.0</td>\n",
       "      <td>0.0</td>\n",
       "      <td>0.0</td>\n",
       "      <td>0.0</td>\n",
       "      <td>4.0</td>\n",
       "    </tr>\n",
       "    <tr>\n",
       "      <th>999996</th>\n",
       "      <td>999996</td>\n",
       "      <td>6000.0</td>\n",
       "      <td>3</td>\n",
       "      <td>6.24</td>\n",
       "      <td>183.19</td>\n",
       "      <td>A</td>\n",
       "      <td>A2</td>\n",
       "      <td>38930.0</td>\n",
       "      <td>1 year</td>\n",
       "      <td>1</td>\n",
       "      <td>...</td>\n",
       "      <td>5.0</td>\n",
       "      <td>14.0</td>\n",
       "      <td>12.0</td>\n",
       "      <td>13.0</td>\n",
       "      <td>6.0</td>\n",
       "      <td>25.0</td>\n",
       "      <td>0.0</td>\n",
       "      <td>0.0</td>\n",
       "      <td>0.0</td>\n",
       "      <td>0.0</td>\n",
       "    </tr>\n",
       "    <tr>\n",
       "      <th>999997</th>\n",
       "      <td>999997</td>\n",
       "      <td>14000.0</td>\n",
       "      <td>5</td>\n",
       "      <td>15.88</td>\n",
       "      <td>339.57</td>\n",
       "      <td>C</td>\n",
       "      <td>C4</td>\n",
       "      <td>282016.0</td>\n",
       "      <td>8 years</td>\n",
       "      <td>2</td>\n",
       "      <td>...</td>\n",
       "      <td>21.0</td>\n",
       "      <td>18.0</td>\n",
       "      <td>21.0</td>\n",
       "      <td>42.0</td>\n",
       "      <td>13.0</td>\n",
       "      <td>21.0</td>\n",
       "      <td>0.0</td>\n",
       "      <td>0.0</td>\n",
       "      <td>0.0</td>\n",
       "      <td>0.0</td>\n",
       "    </tr>\n",
       "    <tr>\n",
       "      <th>999998</th>\n",
       "      <td>999998</td>\n",
       "      <td>8000.0</td>\n",
       "      <td>3</td>\n",
       "      <td>18.06</td>\n",
       "      <td>289.47</td>\n",
       "      <td>D</td>\n",
       "      <td>D2</td>\n",
       "      <td>97.0</td>\n",
       "      <td>4 years</td>\n",
       "      <td>1</td>\n",
       "      <td>...</td>\n",
       "      <td>12.0</td>\n",
       "      <td>5.0</td>\n",
       "      <td>8.0</td>\n",
       "      <td>19.0</td>\n",
       "      <td>6.0</td>\n",
       "      <td>11.0</td>\n",
       "      <td>0.0</td>\n",
       "      <td>0.0</td>\n",
       "      <td>0.0</td>\n",
       "      <td>2.0</td>\n",
       "    </tr>\n",
       "    <tr>\n",
       "      <th>999999</th>\n",
       "      <td>999999</td>\n",
       "      <td>8000.0</td>\n",
       "      <td>3</td>\n",
       "      <td>6.68</td>\n",
       "      <td>245.85</td>\n",
       "      <td>A</td>\n",
       "      <td>A3</td>\n",
       "      <td>320.0</td>\n",
       "      <td>7 years</td>\n",
       "      <td>1</td>\n",
       "      <td>...</td>\n",
       "      <td>3.0</td>\n",
       "      <td>4.0</td>\n",
       "      <td>3.0</td>\n",
       "      <td>4.0</td>\n",
       "      <td>2.0</td>\n",
       "      <td>4.0</td>\n",
       "      <td>0.0</td>\n",
       "      <td>0.0</td>\n",
       "      <td>0.0</td>\n",
       "      <td>0.0</td>\n",
       "    </tr>\n",
       "  </tbody>\n",
       "</table>\n",
       "<p>1000000 rows × 47 columns</p>\n",
       "</div>"
      ],
      "text/plain": [
       "            id  loanAmnt  term  interestRate  installment grade subGrade  \\\n",
       "0            0   35000.0     5         19.52       917.97     E       E2   \n",
       "1            1   18000.0     5         18.49       461.90     D       D2   \n",
       "2            2   12000.0     5         16.99       298.17     D       D3   \n",
       "3            3   11000.0     3          7.26       340.96     A       A4   \n",
       "4            4    3000.0     3         12.99       101.07     C       C2   \n",
       "...        ...       ...   ...           ...          ...   ...      ...   \n",
       "999995  999995    7000.0     3         11.14       229.64     B       B2   \n",
       "999996  999996    6000.0     3          6.24       183.19     A       A2   \n",
       "999997  999997   14000.0     5         15.88       339.57     C       C4   \n",
       "999998  999998    8000.0     3         18.06       289.47     D       D2   \n",
       "999999  999999    8000.0     3          6.68       245.85     A       A3   \n",
       "\n",
       "        employmentTitle employmentLength  homeOwnership  ...    n5    n6  \\\n",
       "0                 320.0          2 years              2  ...   9.0   8.0   \n",
       "1              219843.0          5 years              0  ...   7.0   7.0   \n",
       "2               31698.0          8 years              0  ...   0.0  21.0   \n",
       "3               46854.0        10+ years              1  ...  16.0   4.0   \n",
       "4                  54.0              NaN              1  ...   4.0   9.0   \n",
       "...                 ...              ...            ...  ...   ...   ...   \n",
       "999995         330967.0          7 years              1  ...   6.0  11.0   \n",
       "999996          38930.0           1 year              1  ...   5.0  14.0   \n",
       "999997         282016.0          8 years              2  ...  21.0  18.0   \n",
       "999998             97.0          4 years              1  ...  12.0   5.0   \n",
       "999999            320.0          7 years              1  ...   3.0   4.0   \n",
       "\n",
       "          n7    n8    n9   n10  n11  n12  n13  n14  \n",
       "0        4.0  12.0   2.0   7.0  0.0  0.0  0.0  2.0  \n",
       "1        7.0  13.0   5.0  13.0  0.0  0.0  0.0  2.0  \n",
       "2        4.0   5.0   3.0  11.0  0.0  0.0  0.0  4.0  \n",
       "3        7.0  21.0   6.0   9.0  0.0  0.0  0.0  1.0  \n",
       "4       10.0  15.0   7.0  12.0  0.0  0.0  0.0  4.0  \n",
       "...      ...   ...   ...   ...  ...  ...  ...  ...  \n",
       "999995   2.0   6.0   2.0   8.0  0.0  0.0  0.0  4.0  \n",
       "999996  12.0  13.0   6.0  25.0  0.0  0.0  0.0  0.0  \n",
       "999997  21.0  42.0  13.0  21.0  0.0  0.0  0.0  0.0  \n",
       "999998   8.0  19.0   6.0  11.0  0.0  0.0  0.0  2.0  \n",
       "999999   3.0   4.0   2.0   4.0  0.0  0.0  0.0  0.0  \n",
       "\n",
       "[1000000 rows x 47 columns]"
      ]
     },
     "execution_count": 9,
     "metadata": {},
     "output_type": "execute_result"
    }
   ],
   "source": [
    "data_tmp"
   ]
  },
  {
   "cell_type": "markdown",
   "metadata": {},
   "source": [
    "## 时间格式处理"
   ]
  },
  {
   "cell_type": "code",
   "execution_count": 10,
   "metadata": {},
   "outputs": [
    {
     "data": {
      "text/plain": [
       "0         2014-07-01\n",
       "1         2012-08-01\n",
       "2         2015-10-01\n",
       "3         2015-08-01\n",
       "4         2016-03-01\n",
       "             ...    \n",
       "999995    2012-10-01\n",
       "999996    2015-10-01\n",
       "999997    2013-07-01\n",
       "999998    2017-10-01\n",
       "999999    2015-02-01\n",
       "Name: issueDate, Length: 1000000, dtype: object"
      ]
     },
     "execution_count": 10,
     "metadata": {},
     "output_type": "execute_result"
    }
   ],
   "source": [
    "data_tmp['issueDate']"
   ]
  },
  {
   "cell_type": "code",
   "execution_count": 11,
   "metadata": {},
   "outputs": [],
   "source": [
    "data_tmp['issueDate'] = pd.to_datetime(data_tmp['issueDate'],format='%Y-%m-%d')"
   ]
  },
  {
   "cell_type": "code",
   "execution_count": 12,
   "metadata": {},
   "outputs": [
    {
     "data": {
      "text/plain": [
       "0        2014-07-01\n",
       "1        2012-08-01\n",
       "2        2015-10-01\n",
       "3        2015-08-01\n",
       "4        2016-03-01\n",
       "            ...    \n",
       "999995   2012-10-01\n",
       "999996   2015-10-01\n",
       "999997   2013-07-01\n",
       "999998   2017-10-01\n",
       "999999   2015-02-01\n",
       "Name: issueDate, Length: 1000000, dtype: datetime64[ns]"
      ]
     },
     "execution_count": 12,
     "metadata": {},
     "output_type": "execute_result"
    }
   ],
   "source": [
    "data_tmp['issueDate']"
   ]
  },
  {
   "cell_type": "code",
   "execution_count": 13,
   "metadata": {},
   "outputs": [],
   "source": [
    "startdate = datetime.datetime.strptime('2007-06-01', '%Y-%m-%d')\n",
    "#构造时间特征\n",
    "data_tmp['issueDateDT'] = data_tmp['issueDate'].apply(lambda x: x-startdate).dt.days"
   ]
  },
  {
   "cell_type": "code",
   "execution_count": 14,
   "metadata": {},
   "outputs": [
    {
     "data": {
      "text/plain": [
       "Index(['id', 'loanAmnt', 'term', 'interestRate', 'installment', 'grade',\n",
       "       'subGrade', 'employmentTitle', 'employmentLength', 'homeOwnership',\n",
       "       'annualIncome', 'verificationStatus', 'issueDate', 'isDefault',\n",
       "       'purpose', 'postCode', 'regionCode', 'dti', 'delinquency_2years',\n",
       "       'ficoRangeLow', 'ficoRangeHigh', 'openAcc', 'pubRec',\n",
       "       'pubRecBankruptcies', 'revolBal', 'revolUtil', 'totalAcc',\n",
       "       'initialListStatus', 'applicationType', 'earliesCreditLine', 'title',\n",
       "       'policyCode', 'n0', 'n1', 'n2', 'n3', 'n4', 'n5', 'n6', 'n7', 'n8',\n",
       "       'n9', 'n10', 'n11', 'n12', 'n13', 'n14', 'issueDateDT'],\n",
       "      dtype='object')"
      ]
     },
     "execution_count": 14,
     "metadata": {},
     "output_type": "execute_result"
    }
   ],
   "source": [
    "data_tmp.columns"
   ]
  },
  {
   "cell_type": "code",
   "execution_count": 15,
   "metadata": {},
   "outputs": [
    {
     "data": {
      "text/plain": [
       "0         2587\n",
       "1         1888\n",
       "2         3044\n",
       "3         2983\n",
       "4         3196\n",
       "          ... \n",
       "999995    1949\n",
       "999996    3044\n",
       "999997    2222\n",
       "999998    3775\n",
       "999999    2802\n",
       "Name: issueDateDT, Length: 1000000, dtype: int64"
      ]
     },
     "execution_count": 15,
     "metadata": {},
     "output_type": "execute_result"
    }
   ],
   "source": [
    "data_tmp['issueDateDT'] "
   ]
  },
  {
   "cell_type": "code",
   "execution_count": 16,
   "metadata": {},
   "outputs": [
    {
     "data": {
      "text/plain": [
       "0        2014-07-01\n",
       "1        2012-08-01\n",
       "2        2015-10-01\n",
       "3        2015-08-01\n",
       "4        2016-03-01\n",
       "            ...    \n",
       "999995   2012-10-01\n",
       "999996   2015-10-01\n",
       "999997   2013-07-01\n",
       "999998   2017-10-01\n",
       "999999   2015-02-01\n",
       "Name: issueDate, Length: 1000000, dtype: datetime64[ns]"
      ]
     },
     "execution_count": 16,
     "metadata": {},
     "output_type": "execute_result"
    }
   ],
   "source": [
    "data_tmp['issueDate']"
   ]
  },
  {
   "cell_type": "code",
   "execution_count": 17,
   "metadata": {},
   "outputs": [
    {
     "data": {
      "text/plain": [
       "0        2014-07-01\n",
       "1        2012-08-01\n",
       "2        2015-10-01\n",
       "3        2015-08-01\n",
       "4        2016-03-01\n",
       "            ...    \n",
       "999995   2012-10-01\n",
       "999996   2015-10-01\n",
       "999997   2013-07-01\n",
       "999998   2017-10-01\n",
       "999999   2015-02-01\n",
       "Name: issueDate, Length: 1000000, dtype: datetime64[ns]"
      ]
     },
     "execution_count": 17,
     "metadata": {},
     "output_type": "execute_result"
    }
   ],
   "source": [
    "data_tmp.pop('issueDate')"
   ]
  },
  {
   "cell_type": "code",
   "execution_count": 18,
   "metadata": {},
   "outputs": [
    {
     "data": {
      "text/plain": [
       "1 year        65671\n",
       "10+ years    328525\n",
       "2 years       90565\n",
       "3 years       80163\n",
       "4 years       59818\n",
       "5 years       62645\n",
       "6 years       46582\n",
       "7 years       44230\n",
       "8 years       45168\n",
       "9 years       37866\n",
       "< 1 year      80226\n",
       "NaN           58541\n",
       "Name: employmentLength, dtype: int64"
      ]
     },
     "execution_count": 18,
     "metadata": {},
     "output_type": "execute_result"
    }
   ],
   "source": [
    "data_tmp['employmentLength'].value_counts(dropna=False).sort_index()"
   ]
  },
  {
   "cell_type": "code",
   "execution_count": 19,
   "metadata": {},
   "outputs": [],
   "source": [
    "data_tmp['employmentLength'].replace(to_replace='10+ years', value='10 years', inplace=True)\n",
    "data_tmp['employmentLength'].replace('< 1 year', '0 years', inplace=True)"
   ]
  },
  {
   "cell_type": "code",
   "execution_count": 20,
   "metadata": {},
   "outputs": [
    {
     "data": {
      "text/plain": [
       "0 years      80226\n",
       "1 year       65671\n",
       "10 years    328525\n",
       "2 years      90565\n",
       "3 years      80163\n",
       "4 years      59818\n",
       "5 years      62645\n",
       "6 years      46582\n",
       "7 years      44230\n",
       "8 years      45168\n",
       "9 years      37866\n",
       "NaN          58541\n",
       "Name: employmentLength, dtype: int64"
      ]
     },
     "execution_count": 20,
     "metadata": {},
     "output_type": "execute_result"
    }
   ],
   "source": [
    "data_tmp['employmentLength'].value_counts(dropna=False).sort_index()"
   ]
  },
  {
   "cell_type": "code",
   "execution_count": 21,
   "metadata": {},
   "outputs": [],
   "source": [
    "def employmentLength_to_int(s):\n",
    "    if pd.isnull(s):\n",
    "        return s\n",
    "    else:\n",
    "        return np.int8(s.split()[0])\n",
    "    \n",
    "data_tmp['employmentLength'] = data_tmp['employmentLength'].apply(employmentLength_to_int)"
   ]
  },
  {
   "cell_type": "code",
   "execution_count": 22,
   "metadata": {},
   "outputs": [
    {
     "data": {
      "text/plain": [
       "0.0      80226\n",
       "1.0      65671\n",
       "2.0      90565\n",
       "3.0      80163\n",
       "4.0      59818\n",
       "5.0      62645\n",
       "6.0      46582\n",
       "7.0      44230\n",
       "8.0      45168\n",
       "9.0      37866\n",
       "10.0    328525\n",
       "NaN      58541\n",
       "Name: employmentLength, dtype: int64"
      ]
     },
     "execution_count": 22,
     "metadata": {},
     "output_type": "execute_result"
    }
   ],
   "source": [
    "data_tmp['employmentLength'].value_counts(dropna=False).sort_index()"
   ]
  },
  {
   "cell_type": "code",
   "execution_count": 23,
   "metadata": {},
   "outputs": [],
   "source": [
    "#按照众数填充类别型特征\n",
    "data_tmp['employmentLength'] = data_tmp['employmentLength'].fillna(data_tmp['employmentLength'].mode())"
   ]
  },
  {
   "cell_type": "code",
   "execution_count": 24,
   "metadata": {},
   "outputs": [
    {
     "data": {
      "text/plain": [
       "0.0      80226\n",
       "1.0      65671\n",
       "2.0      90565\n",
       "3.0      80163\n",
       "4.0      59818\n",
       "5.0      62645\n",
       "6.0      46582\n",
       "7.0      44230\n",
       "8.0      45168\n",
       "9.0      37866\n",
       "10.0    328525\n",
       "NaN      58541\n",
       "Name: employmentLength, dtype: int64"
      ]
     },
     "execution_count": 24,
     "metadata": {},
     "output_type": "execute_result"
    }
   ],
   "source": [
    "data_tmp['employmentLength'].value_counts(dropna=False).sort_index()"
   ]
  },
  {
   "cell_type": "code",
   "execution_count": 25,
   "metadata": {},
   "outputs": [
    {
     "data": {
      "text/plain": [
       "58541"
      ]
     },
     "execution_count": 25,
     "metadata": {},
     "output_type": "execute_result"
    }
   ],
   "source": [
    "data_tmp['employmentLength'].isnull().sum()"
   ]
  },
  {
   "cell_type": "code",
   "execution_count": 26,
   "metadata": {},
   "outputs": [],
   "source": [
    "#按照众数填充类别型特征\n",
    "data_tmp['employmentLength'] = data_tmp['employmentLength'].fillna(data_tmp['employmentLength'].mode())"
   ]
  },
  {
   "cell_type": "code",
   "execution_count": 27,
   "metadata": {},
   "outputs": [
    {
     "data": {
      "text/plain": [
       "58541"
      ]
     },
     "execution_count": 27,
     "metadata": {},
     "output_type": "execute_result"
    }
   ],
   "source": [
    "data_tmp['employmentLength'].isnull().sum()"
   ]
  },
  {
   "cell_type": "code",
   "execution_count": 28,
   "metadata": {},
   "outputs": [
    {
     "data": {
      "text/plain": [
       "id                         0\n",
       "loanAmnt                   0\n",
       "term                       0\n",
       "interestRate               0\n",
       "installment                0\n",
       "grade                      0\n",
       "subGrade                   0\n",
       "employmentTitle            0\n",
       "employmentLength       58541\n",
       "homeOwnership              0\n",
       "annualIncome               0\n",
       "verificationStatus         0\n",
       "isDefault             200000\n",
       "purpose                    0\n",
       "postCode                   0\n",
       "regionCode                 0\n",
       "dti                        0\n",
       "delinquency_2years         0\n",
       "ficoRangeLow               0\n",
       "ficoRangeHigh              0\n",
       "openAcc                    0\n",
       "pubRec                     0\n",
       "pubRecBankruptcies         0\n",
       "revolBal                   0\n",
       "revolUtil                  0\n",
       "totalAcc                   0\n",
       "initialListStatus          0\n",
       "applicationType            0\n",
       "earliesCreditLine          0\n",
       "title                      0\n",
       "policyCode                 0\n",
       "n0                         0\n",
       "n1                         0\n",
       "n2                         0\n",
       "n3                         0\n",
       "n4                         0\n",
       "n5                         0\n",
       "n6                         0\n",
       "n7                         0\n",
       "n8                         0\n",
       "n9                         0\n",
       "n10                        0\n",
       "n11                        0\n",
       "n12                        0\n",
       "n13                        0\n",
       "n14                        0\n",
       "issueDateDT                0\n",
       "dtype: int64"
      ]
     },
     "execution_count": 28,
     "metadata": {},
     "output_type": "execute_result"
    }
   ],
   "source": [
    "data_tmp.isnull().sum()"
   ]
  },
  {
   "cell_type": "code",
   "execution_count": 29,
   "metadata": {},
   "outputs": [
    {
     "data": {
      "text/plain": [
       "0          2.0\n",
       "1          5.0\n",
       "2          8.0\n",
       "3         10.0\n",
       "4         10.0\n",
       "          ... \n",
       "999995     7.0\n",
       "999996     1.0\n",
       "999997     8.0\n",
       "999998     4.0\n",
       "999999     7.0\n",
       "Name: employmentLength, Length: 1000000, dtype: float64"
      ]
     },
     "execution_count": 29,
     "metadata": {},
     "output_type": "execute_result"
    }
   ],
   "source": [
    "data_tmp['employmentLength'].fillna(10.0)"
   ]
  },
  {
   "cell_type": "code",
   "execution_count": 30,
   "metadata": {},
   "outputs": [
    {
     "data": {
      "text/plain": [
       "0         False\n",
       "1         False\n",
       "2         False\n",
       "3         False\n",
       "4          True\n",
       "          ...  \n",
       "999995    False\n",
       "999996    False\n",
       "999997    False\n",
       "999998    False\n",
       "999999    False\n",
       "Name: employmentLength, Length: 1000000, dtype: bool"
      ]
     },
     "execution_count": 30,
     "metadata": {},
     "output_type": "execute_result"
    }
   ],
   "source": [
    "data_tmp['employmentLength'].isnull()"
   ]
  },
  {
   "cell_type": "code",
   "execution_count": 31,
   "metadata": {},
   "outputs": [
    {
     "data": {
      "text/plain": [
       "58541"
      ]
     },
     "execution_count": 31,
     "metadata": {},
     "output_type": "execute_result"
    }
   ],
   "source": [
    "data_tmp['employmentLength'].isnull().sum()"
   ]
  },
  {
   "cell_type": "code",
   "execution_count": 32,
   "metadata": {},
   "outputs": [
    {
     "name": "stdout",
     "output_type": "stream",
     "text": [
      "<class 'pandas.core.series.Series'>\n",
      "id                    False\n",
      "loanAmnt              False\n",
      "term                  False\n",
      "interestRate          False\n",
      "installment           False\n",
      "grade                 False\n",
      "subGrade              False\n",
      "employmentTitle       False\n",
      "employmentLength       True\n",
      "homeOwnership         False\n",
      "annualIncome          False\n",
      "verificationStatus    False\n",
      "isDefault              True\n",
      "purpose               False\n",
      "postCode              False\n",
      "regionCode            False\n",
      "dti                   False\n",
      "delinquency_2years    False\n",
      "ficoRangeLow          False\n",
      "ficoRangeHigh         False\n",
      "openAcc               False\n",
      "pubRec                False\n",
      "pubRecBankruptcies    False\n",
      "revolBal              False\n",
      "revolUtil             False\n",
      "totalAcc              False\n",
      "initialListStatus     False\n",
      "applicationType       False\n",
      "earliesCreditLine     False\n",
      "title                 False\n",
      "policyCode            False\n",
      "n0                    False\n",
      "n1                    False\n",
      "n2                    False\n",
      "n3                    False\n",
      "n4                    False\n",
      "n5                    False\n",
      "n6                    False\n",
      "n7                    False\n",
      "n8                    False\n",
      "n9                    False\n",
      "n10                   False\n",
      "n11                   False\n",
      "n12                   False\n",
      "n13                   False\n",
      "n14                   False\n",
      "issueDateDT           False\n",
      "dtype: bool\n"
     ]
    }
   ],
   "source": [
    "temp = data_tmp.isnull().any() #列中是否存在空值\n",
    "\n",
    "print(type(temp))\n",
    "\n",
    "print(temp)"
   ]
  },
  {
   "cell_type": "code",
   "execution_count": 33,
   "metadata": {},
   "outputs": [
    {
     "data": {
      "text/plain": [
       "0          2.0\n",
       "1          5.0\n",
       "2          8.0\n",
       "3         10.0\n",
       "4         10.0\n",
       "          ... \n",
       "999995     7.0\n",
       "999996     1.0\n",
       "999997     8.0\n",
       "999998     4.0\n",
       "999999     7.0\n",
       "Name: employmentLength, Length: 1000000, dtype: float64"
      ]
     },
     "execution_count": 33,
     "metadata": {},
     "output_type": "execute_result"
    }
   ],
   "source": [
    "data_tmp['employmentLength'].fillna(10.0)"
   ]
  },
  {
   "cell_type": "code",
   "execution_count": 34,
   "metadata": {},
   "outputs": [
    {
     "name": "stdout",
     "output_type": "stream",
     "text": [
      "<class 'pandas.core.series.Series'>\n",
      "id                    False\n",
      "loanAmnt              False\n",
      "term                  False\n",
      "interestRate          False\n",
      "installment           False\n",
      "grade                 False\n",
      "subGrade              False\n",
      "employmentTitle       False\n",
      "employmentLength       True\n",
      "homeOwnership         False\n",
      "annualIncome          False\n",
      "verificationStatus    False\n",
      "isDefault              True\n",
      "purpose               False\n",
      "postCode              False\n",
      "regionCode            False\n",
      "dti                   False\n",
      "delinquency_2years    False\n",
      "ficoRangeLow          False\n",
      "ficoRangeHigh         False\n",
      "openAcc               False\n",
      "pubRec                False\n",
      "pubRecBankruptcies    False\n",
      "revolBal              False\n",
      "revolUtil             False\n",
      "totalAcc              False\n",
      "initialListStatus     False\n",
      "applicationType       False\n",
      "earliesCreditLine     False\n",
      "title                 False\n",
      "policyCode            False\n",
      "n0                    False\n",
      "n1                    False\n",
      "n2                    False\n",
      "n3                    False\n",
      "n4                    False\n",
      "n5                    False\n",
      "n6                    False\n",
      "n7                    False\n",
      "n8                    False\n",
      "n9                    False\n",
      "n10                   False\n",
      "n11                   False\n",
      "n12                   False\n",
      "n13                   False\n",
      "n14                   False\n",
      "issueDateDT           False\n",
      "dtype: bool\n"
     ]
    }
   ],
   "source": [
    "temp = data_tmp.isnull().any() #列中是否存在空值\n",
    "\n",
    "print(type(temp))\n",
    "\n",
    "print(temp)"
   ]
  },
  {
   "cell_type": "code",
   "execution_count": 35,
   "metadata": {},
   "outputs": [],
   "source": [
    "#按照众数填充类别型特征\n",
    "data_tmp['employmentLength'] = data_tmp['employmentLength'].fillna(data_tmp['employmentLength'].mode())"
   ]
  },
  {
   "cell_type": "code",
   "execution_count": 36,
   "metadata": {},
   "outputs": [
    {
     "data": {
      "text/plain": [
       "0.0      80226\n",
       "1.0      65671\n",
       "2.0      90565\n",
       "3.0      80163\n",
       "4.0      59818\n",
       "5.0      62645\n",
       "6.0      46582\n",
       "7.0      44230\n",
       "8.0      45168\n",
       "9.0      37866\n",
       "10.0    328525\n",
       "NaN      58541\n",
       "Name: employmentLength, dtype: int64"
      ]
     },
     "execution_count": 36,
     "metadata": {},
     "output_type": "execute_result"
    }
   ],
   "source": [
    "data_tmp['employmentLength'].value_counts(dropna=False).sort_index()"
   ]
  },
  {
   "cell_type": "code",
   "execution_count": 37,
   "metadata": {},
   "outputs": [],
   "source": [
    "#按照众数填充类别型特征\n",
    "data_tmp['employmentLength'] = data_tmp['employmentLength'].fillna(0.0)"
   ]
  },
  {
   "cell_type": "code",
   "execution_count": 38,
   "metadata": {},
   "outputs": [
    {
     "data": {
      "text/plain": [
       "0.0     138767\n",
       "1.0      65671\n",
       "2.0      90565\n",
       "3.0      80163\n",
       "4.0      59818\n",
       "5.0      62645\n",
       "6.0      46582\n",
       "7.0      44230\n",
       "8.0      45168\n",
       "9.0      37866\n",
       "10.0    328525\n",
       "Name: employmentLength, dtype: int64"
      ]
     },
     "execution_count": 38,
     "metadata": {},
     "output_type": "execute_result"
    }
   ],
   "source": [
    "data_tmp['employmentLength'].value_counts(dropna=False).sort_index()"
   ]
  },
  {
   "cell_type": "code",
   "execution_count": 39,
   "metadata": {},
   "outputs": [
    {
     "name": "stdout",
     "output_type": "stream",
     "text": [
      "<class 'pandas.core.series.Series'>\n",
      "id                    False\n",
      "loanAmnt              False\n",
      "term                  False\n",
      "interestRate          False\n",
      "installment           False\n",
      "grade                 False\n",
      "subGrade              False\n",
      "employmentTitle       False\n",
      "employmentLength      False\n",
      "homeOwnership         False\n",
      "annualIncome          False\n",
      "verificationStatus    False\n",
      "isDefault              True\n",
      "purpose               False\n",
      "postCode              False\n",
      "regionCode            False\n",
      "dti                   False\n",
      "delinquency_2years    False\n",
      "ficoRangeLow          False\n",
      "ficoRangeHigh         False\n",
      "openAcc               False\n",
      "pubRec                False\n",
      "pubRecBankruptcies    False\n",
      "revolBal              False\n",
      "revolUtil             False\n",
      "totalAcc              False\n",
      "initialListStatus     False\n",
      "applicationType       False\n",
      "earliesCreditLine     False\n",
      "title                 False\n",
      "policyCode            False\n",
      "n0                    False\n",
      "n1                    False\n",
      "n2                    False\n",
      "n3                    False\n",
      "n4                    False\n",
      "n5                    False\n",
      "n6                    False\n",
      "n7                    False\n",
      "n8                    False\n",
      "n9                    False\n",
      "n10                   False\n",
      "n11                   False\n",
      "n12                   False\n",
      "n13                   False\n",
      "n14                   False\n",
      "issueDateDT           False\n",
      "dtype: bool\n"
     ]
    }
   ],
   "source": [
    "temp = data_tmp.isnull().any() #列中是否存在空值\n",
    "\n",
    "print(type(temp))\n",
    "\n",
    "print(temp)"
   ]
  },
  {
   "cell_type": "markdown",
   "metadata": {},
   "source": [
    "对earliesCreditLine进行预处理"
   ]
  },
  {
   "cell_type": "code",
   "execution_count": 40,
   "metadata": {},
   "outputs": [
    {
     "data": {
      "text/plain": [
       "942729    Apr-1989\n",
       "885945    Mar-2009\n",
       "569562    Sep-2000\n",
       "546623    Jan-2000\n",
       "564774    Oct-2003\n",
       "Name: earliesCreditLine, dtype: object"
      ]
     },
     "execution_count": 40,
     "metadata": {},
     "output_type": "execute_result"
    }
   ],
   "source": [
    "data_tmp['earliesCreditLine'].sample(5)"
   ]
  },
  {
   "cell_type": "code",
   "execution_count": 41,
   "metadata": {},
   "outputs": [],
   "source": [
    "data_tmp['earliesCreditLine'] = data_tmp['earliesCreditLine'].apply(lambda s: int(s[-4:]))"
   ]
  },
  {
   "cell_type": "code",
   "execution_count": 42,
   "metadata": {},
   "outputs": [
    {
     "data": {
      "text/html": [
       "<div>\n",
       "<style scoped>\n",
       "    .dataframe tbody tr th:only-of-type {\n",
       "        vertical-align: middle;\n",
       "    }\n",
       "\n",
       "    .dataframe tbody tr th {\n",
       "        vertical-align: top;\n",
       "    }\n",
       "\n",
       "    .dataframe thead th {\n",
       "        text-align: right;\n",
       "    }\n",
       "</style>\n",
       "<table border=\"1\" class=\"dataframe\">\n",
       "  <thead>\n",
       "    <tr style=\"text-align: right;\">\n",
       "      <th></th>\n",
       "      <th>id</th>\n",
       "      <th>loanAmnt</th>\n",
       "      <th>term</th>\n",
       "      <th>interestRate</th>\n",
       "      <th>installment</th>\n",
       "      <th>grade</th>\n",
       "      <th>subGrade</th>\n",
       "      <th>employmentTitle</th>\n",
       "      <th>employmentLength</th>\n",
       "      <th>homeOwnership</th>\n",
       "      <th>...</th>\n",
       "      <th>n6</th>\n",
       "      <th>n7</th>\n",
       "      <th>n8</th>\n",
       "      <th>n9</th>\n",
       "      <th>n10</th>\n",
       "      <th>n11</th>\n",
       "      <th>n12</th>\n",
       "      <th>n13</th>\n",
       "      <th>n14</th>\n",
       "      <th>issueDateDT</th>\n",
       "    </tr>\n",
       "  </thead>\n",
       "  <tbody>\n",
       "    <tr>\n",
       "      <th>0</th>\n",
       "      <td>0</td>\n",
       "      <td>35000.0</td>\n",
       "      <td>5</td>\n",
       "      <td>19.52</td>\n",
       "      <td>917.97</td>\n",
       "      <td>E</td>\n",
       "      <td>E2</td>\n",
       "      <td>320.0</td>\n",
       "      <td>2.0</td>\n",
       "      <td>2</td>\n",
       "      <td>...</td>\n",
       "      <td>8.0</td>\n",
       "      <td>4.0</td>\n",
       "      <td>12.0</td>\n",
       "      <td>2.0</td>\n",
       "      <td>7.0</td>\n",
       "      <td>0.0</td>\n",
       "      <td>0.0</td>\n",
       "      <td>0.0</td>\n",
       "      <td>2.0</td>\n",
       "      <td>2587</td>\n",
       "    </tr>\n",
       "    <tr>\n",
       "      <th>1</th>\n",
       "      <td>1</td>\n",
       "      <td>18000.0</td>\n",
       "      <td>5</td>\n",
       "      <td>18.49</td>\n",
       "      <td>461.90</td>\n",
       "      <td>D</td>\n",
       "      <td>D2</td>\n",
       "      <td>219843.0</td>\n",
       "      <td>5.0</td>\n",
       "      <td>0</td>\n",
       "      <td>...</td>\n",
       "      <td>7.0</td>\n",
       "      <td>7.0</td>\n",
       "      <td>13.0</td>\n",
       "      <td>5.0</td>\n",
       "      <td>13.0</td>\n",
       "      <td>0.0</td>\n",
       "      <td>0.0</td>\n",
       "      <td>0.0</td>\n",
       "      <td>2.0</td>\n",
       "      <td>1888</td>\n",
       "    </tr>\n",
       "    <tr>\n",
       "      <th>2</th>\n",
       "      <td>2</td>\n",
       "      <td>12000.0</td>\n",
       "      <td>5</td>\n",
       "      <td>16.99</td>\n",
       "      <td>298.17</td>\n",
       "      <td>D</td>\n",
       "      <td>D3</td>\n",
       "      <td>31698.0</td>\n",
       "      <td>8.0</td>\n",
       "      <td>0</td>\n",
       "      <td>...</td>\n",
       "      <td>21.0</td>\n",
       "      <td>4.0</td>\n",
       "      <td>5.0</td>\n",
       "      <td>3.0</td>\n",
       "      <td>11.0</td>\n",
       "      <td>0.0</td>\n",
       "      <td>0.0</td>\n",
       "      <td>0.0</td>\n",
       "      <td>4.0</td>\n",
       "      <td>3044</td>\n",
       "    </tr>\n",
       "    <tr>\n",
       "      <th>3</th>\n",
       "      <td>3</td>\n",
       "      <td>11000.0</td>\n",
       "      <td>3</td>\n",
       "      <td>7.26</td>\n",
       "      <td>340.96</td>\n",
       "      <td>A</td>\n",
       "      <td>A4</td>\n",
       "      <td>46854.0</td>\n",
       "      <td>10.0</td>\n",
       "      <td>1</td>\n",
       "      <td>...</td>\n",
       "      <td>4.0</td>\n",
       "      <td>7.0</td>\n",
       "      <td>21.0</td>\n",
       "      <td>6.0</td>\n",
       "      <td>9.0</td>\n",
       "      <td>0.0</td>\n",
       "      <td>0.0</td>\n",
       "      <td>0.0</td>\n",
       "      <td>1.0</td>\n",
       "      <td>2983</td>\n",
       "    </tr>\n",
       "    <tr>\n",
       "      <th>4</th>\n",
       "      <td>4</td>\n",
       "      <td>3000.0</td>\n",
       "      <td>3</td>\n",
       "      <td>12.99</td>\n",
       "      <td>101.07</td>\n",
       "      <td>C</td>\n",
       "      <td>C2</td>\n",
       "      <td>54.0</td>\n",
       "      <td>0.0</td>\n",
       "      <td>1</td>\n",
       "      <td>...</td>\n",
       "      <td>9.0</td>\n",
       "      <td>10.0</td>\n",
       "      <td>15.0</td>\n",
       "      <td>7.0</td>\n",
       "      <td>12.0</td>\n",
       "      <td>0.0</td>\n",
       "      <td>0.0</td>\n",
       "      <td>0.0</td>\n",
       "      <td>4.0</td>\n",
       "      <td>3196</td>\n",
       "    </tr>\n",
       "  </tbody>\n",
       "</table>\n",
       "<p>5 rows × 47 columns</p>\n",
       "</div>"
      ],
      "text/plain": [
       "   id  loanAmnt  term  interestRate  installment grade subGrade  \\\n",
       "0   0   35000.0     5         19.52       917.97     E       E2   \n",
       "1   1   18000.0     5         18.49       461.90     D       D2   \n",
       "2   2   12000.0     5         16.99       298.17     D       D3   \n",
       "3   3   11000.0     3          7.26       340.96     A       A4   \n",
       "4   4    3000.0     3         12.99       101.07     C       C2   \n",
       "\n",
       "   employmentTitle  employmentLength  homeOwnership  ...    n6    n7    n8  \\\n",
       "0            320.0               2.0              2  ...   8.0   4.0  12.0   \n",
       "1         219843.0               5.0              0  ...   7.0   7.0  13.0   \n",
       "2          31698.0               8.0              0  ...  21.0   4.0   5.0   \n",
       "3          46854.0              10.0              1  ...   4.0   7.0  21.0   \n",
       "4             54.0               0.0              1  ...   9.0  10.0  15.0   \n",
       "\n",
       "    n9   n10  n11  n12  n13  n14  issueDateDT  \n",
       "0  2.0   7.0  0.0  0.0  0.0  2.0         2587  \n",
       "1  5.0  13.0  0.0  0.0  0.0  2.0         1888  \n",
       "2  3.0  11.0  0.0  0.0  0.0  4.0         3044  \n",
       "3  6.0   9.0  0.0  0.0  0.0  1.0         2983  \n",
       "4  7.0  12.0  0.0  0.0  0.0  4.0         3196  \n",
       "\n",
       "[5 rows x 47 columns]"
      ]
     },
     "execution_count": 42,
     "metadata": {},
     "output_type": "execute_result"
    }
   ],
   "source": [
    "data_tmp.head(5)"
   ]
  },
  {
   "cell_type": "code",
   "execution_count": 43,
   "metadata": {},
   "outputs": [
    {
     "data": {
      "text/plain": [
       "count    1000000.000000\n",
       "mean        1998.688632\n",
       "std            7.606231\n",
       "min         1944.000000\n",
       "25%         1995.000000\n",
       "50%         2000.000000\n",
       "75%         2004.000000\n",
       "max         2015.000000\n",
       "Name: earliesCreditLine, dtype: float64"
      ]
     },
     "execution_count": 43,
     "metadata": {},
     "output_type": "execute_result"
    }
   ],
   "source": [
    "data_tmp['earliesCreditLine'].describe()"
   ]
  },
  {
   "cell_type": "code",
   "execution_count": 44,
   "metadata": {},
   "outputs": [
    {
     "data": {
      "text/html": [
       "<div>\n",
       "<style scoped>\n",
       "    .dataframe tbody tr th:only-of-type {\n",
       "        vertical-align: middle;\n",
       "    }\n",
       "\n",
       "    .dataframe tbody tr th {\n",
       "        vertical-align: top;\n",
       "    }\n",
       "\n",
       "    .dataframe thead th {\n",
       "        text-align: right;\n",
       "    }\n",
       "</style>\n",
       "<table border=\"1\" class=\"dataframe\">\n",
       "  <thead>\n",
       "    <tr style=\"text-align: right;\">\n",
       "      <th></th>\n",
       "      <th>id</th>\n",
       "      <th>loanAmnt</th>\n",
       "      <th>term</th>\n",
       "      <th>interestRate</th>\n",
       "      <th>installment</th>\n",
       "      <th>grade</th>\n",
       "      <th>subGrade</th>\n",
       "      <th>employmentTitle</th>\n",
       "      <th>employmentLength</th>\n",
       "      <th>homeOwnership</th>\n",
       "      <th>...</th>\n",
       "      <th>n6</th>\n",
       "      <th>n7</th>\n",
       "      <th>n8</th>\n",
       "      <th>n9</th>\n",
       "      <th>n10</th>\n",
       "      <th>n11</th>\n",
       "      <th>n12</th>\n",
       "      <th>n13</th>\n",
       "      <th>n14</th>\n",
       "      <th>issueDateDT</th>\n",
       "    </tr>\n",
       "  </thead>\n",
       "  <tbody>\n",
       "    <tr>\n",
       "      <th>0</th>\n",
       "      <td>0</td>\n",
       "      <td>35000.0</td>\n",
       "      <td>5</td>\n",
       "      <td>19.52</td>\n",
       "      <td>917.97</td>\n",
       "      <td>E</td>\n",
       "      <td>E2</td>\n",
       "      <td>320.0</td>\n",
       "      <td>2.0</td>\n",
       "      <td>2</td>\n",
       "      <td>...</td>\n",
       "      <td>8.0</td>\n",
       "      <td>4.0</td>\n",
       "      <td>12.0</td>\n",
       "      <td>2.0</td>\n",
       "      <td>7.0</td>\n",
       "      <td>0.0</td>\n",
       "      <td>0.0</td>\n",
       "      <td>0.0</td>\n",
       "      <td>2.0</td>\n",
       "      <td>2587</td>\n",
       "    </tr>\n",
       "    <tr>\n",
       "      <th>1</th>\n",
       "      <td>1</td>\n",
       "      <td>18000.0</td>\n",
       "      <td>5</td>\n",
       "      <td>18.49</td>\n",
       "      <td>461.90</td>\n",
       "      <td>D</td>\n",
       "      <td>D2</td>\n",
       "      <td>219843.0</td>\n",
       "      <td>5.0</td>\n",
       "      <td>0</td>\n",
       "      <td>...</td>\n",
       "      <td>7.0</td>\n",
       "      <td>7.0</td>\n",
       "      <td>13.0</td>\n",
       "      <td>5.0</td>\n",
       "      <td>13.0</td>\n",
       "      <td>0.0</td>\n",
       "      <td>0.0</td>\n",
       "      <td>0.0</td>\n",
       "      <td>2.0</td>\n",
       "      <td>1888</td>\n",
       "    </tr>\n",
       "    <tr>\n",
       "      <th>2</th>\n",
       "      <td>2</td>\n",
       "      <td>12000.0</td>\n",
       "      <td>5</td>\n",
       "      <td>16.99</td>\n",
       "      <td>298.17</td>\n",
       "      <td>D</td>\n",
       "      <td>D3</td>\n",
       "      <td>31698.0</td>\n",
       "      <td>8.0</td>\n",
       "      <td>0</td>\n",
       "      <td>...</td>\n",
       "      <td>21.0</td>\n",
       "      <td>4.0</td>\n",
       "      <td>5.0</td>\n",
       "      <td>3.0</td>\n",
       "      <td>11.0</td>\n",
       "      <td>0.0</td>\n",
       "      <td>0.0</td>\n",
       "      <td>0.0</td>\n",
       "      <td>4.0</td>\n",
       "      <td>3044</td>\n",
       "    </tr>\n",
       "    <tr>\n",
       "      <th>3</th>\n",
       "      <td>3</td>\n",
       "      <td>11000.0</td>\n",
       "      <td>3</td>\n",
       "      <td>7.26</td>\n",
       "      <td>340.96</td>\n",
       "      <td>A</td>\n",
       "      <td>A4</td>\n",
       "      <td>46854.0</td>\n",
       "      <td>10.0</td>\n",
       "      <td>1</td>\n",
       "      <td>...</td>\n",
       "      <td>4.0</td>\n",
       "      <td>7.0</td>\n",
       "      <td>21.0</td>\n",
       "      <td>6.0</td>\n",
       "      <td>9.0</td>\n",
       "      <td>0.0</td>\n",
       "      <td>0.0</td>\n",
       "      <td>0.0</td>\n",
       "      <td>1.0</td>\n",
       "      <td>2983</td>\n",
       "    </tr>\n",
       "    <tr>\n",
       "      <th>4</th>\n",
       "      <td>4</td>\n",
       "      <td>3000.0</td>\n",
       "      <td>3</td>\n",
       "      <td>12.99</td>\n",
       "      <td>101.07</td>\n",
       "      <td>C</td>\n",
       "      <td>C2</td>\n",
       "      <td>54.0</td>\n",
       "      <td>0.0</td>\n",
       "      <td>1</td>\n",
       "      <td>...</td>\n",
       "      <td>9.0</td>\n",
       "      <td>10.0</td>\n",
       "      <td>15.0</td>\n",
       "      <td>7.0</td>\n",
       "      <td>12.0</td>\n",
       "      <td>0.0</td>\n",
       "      <td>0.0</td>\n",
       "      <td>0.0</td>\n",
       "      <td>4.0</td>\n",
       "      <td>3196</td>\n",
       "    </tr>\n",
       "  </tbody>\n",
       "</table>\n",
       "<p>5 rows × 47 columns</p>\n",
       "</div>"
      ],
      "text/plain": [
       "   id  loanAmnt  term  interestRate  installment grade subGrade  \\\n",
       "0   0   35000.0     5         19.52       917.97     E       E2   \n",
       "1   1   18000.0     5         18.49       461.90     D       D2   \n",
       "2   2   12000.0     5         16.99       298.17     D       D3   \n",
       "3   3   11000.0     3          7.26       340.96     A       A4   \n",
       "4   4    3000.0     3         12.99       101.07     C       C2   \n",
       "\n",
       "   employmentTitle  employmentLength  homeOwnership  ...    n6    n7    n8  \\\n",
       "0            320.0               2.0              2  ...   8.0   4.0  12.0   \n",
       "1         219843.0               5.0              0  ...   7.0   7.0  13.0   \n",
       "2          31698.0               8.0              0  ...  21.0   4.0   5.0   \n",
       "3          46854.0              10.0              1  ...   4.0   7.0  21.0   \n",
       "4             54.0               0.0              1  ...   9.0  10.0  15.0   \n",
       "\n",
       "    n9   n10  n11  n12  n13  n14  issueDateDT  \n",
       "0  2.0   7.0  0.0  0.0  0.0  2.0         2587  \n",
       "1  5.0  13.0  0.0  0.0  0.0  2.0         1888  \n",
       "2  3.0  11.0  0.0  0.0  0.0  4.0         3044  \n",
       "3  6.0   9.0  0.0  0.0  0.0  1.0         2983  \n",
       "4  7.0  12.0  0.0  0.0  0.0  4.0         3196  \n",
       "\n",
       "[5 rows x 47 columns]"
      ]
     },
     "execution_count": 44,
     "metadata": {},
     "output_type": "execute_result"
    }
   ],
   "source": [
    "data_tmp.head()"
   ]
  },
  {
   "cell_type": "markdown",
   "metadata": {},
   "source": [
    "类别特征处理"
   ]
  },
  {
   "cell_type": "code",
   "execution_count": 45,
   "metadata": {},
   "outputs": [
    {
     "name": "stdout",
     "output_type": "stream",
     "text": [
      "grade 类型数： 7\n",
      "subGrade 类型数： 35\n",
      "employmentTitle 类型数： 298101\n",
      "homeOwnership 类型数： 6\n",
      "verificationStatus 类型数： 3\n",
      "purpose 类型数： 14\n",
      "postCode 类型数： 935\n",
      "regionCode 类型数： 51\n",
      "applicationType 类型数： 2\n",
      "initialListStatus 类型数： 2\n",
      "title 类型数： 47903\n",
      "policyCode 类型数： 1\n"
     ]
    }
   ],
   "source": [
    "# 部分类别特征\n",
    "cate_features = ['grade', 'subGrade', 'employmentTitle', 'homeOwnership', 'verificationStatus', 'purpose', 'postCode', 'regionCode', \\\n",
    "                 'applicationType', 'initialListStatus', 'title', 'policyCode']\n",
    "for f in cate_features:\n",
    "    print(f, '类型数：', data_tmp[f].nunique())"
   ]
  },
  {
   "cell_type": "code",
   "execution_count": 46,
   "metadata": {},
   "outputs": [],
   "source": [
    "# 类型数在2之上，又不是高维稀疏的\n",
    "data_tmp = pd.get_dummies(data_tmp, columns=['grade', 'subGrade', 'homeOwnership', 'verificationStatus', 'purpose', 'regionCode'], drop_first=True)"
   ]
  },
  {
   "cell_type": "code",
   "execution_count": 47,
   "metadata": {},
   "outputs": [
    {
     "data": {
      "text/html": [
       "<div>\n",
       "<style scoped>\n",
       "    .dataframe tbody tr th:only-of-type {\n",
       "        vertical-align: middle;\n",
       "    }\n",
       "\n",
       "    .dataframe tbody tr th {\n",
       "        vertical-align: top;\n",
       "    }\n",
       "\n",
       "    .dataframe thead th {\n",
       "        text-align: right;\n",
       "    }\n",
       "</style>\n",
       "<table border=\"1\" class=\"dataframe\">\n",
       "  <thead>\n",
       "    <tr style=\"text-align: right;\">\n",
       "      <th></th>\n",
       "      <th>id</th>\n",
       "      <th>loanAmnt</th>\n",
       "      <th>term</th>\n",
       "      <th>interestRate</th>\n",
       "      <th>installment</th>\n",
       "      <th>employmentTitle</th>\n",
       "      <th>employmentLength</th>\n",
       "      <th>annualIncome</th>\n",
       "      <th>isDefault</th>\n",
       "      <th>postCode</th>\n",
       "      <th>...</th>\n",
       "      <th>regionCode_41</th>\n",
       "      <th>regionCode_42</th>\n",
       "      <th>regionCode_43</th>\n",
       "      <th>regionCode_44</th>\n",
       "      <th>regionCode_45</th>\n",
       "      <th>regionCode_46</th>\n",
       "      <th>regionCode_47</th>\n",
       "      <th>regionCode_48</th>\n",
       "      <th>regionCode_49</th>\n",
       "      <th>regionCode_50</th>\n",
       "    </tr>\n",
       "  </thead>\n",
       "  <tbody>\n",
       "    <tr>\n",
       "      <th>0</th>\n",
       "      <td>0</td>\n",
       "      <td>35000.0</td>\n",
       "      <td>5</td>\n",
       "      <td>19.52</td>\n",
       "      <td>917.97</td>\n",
       "      <td>320.0</td>\n",
       "      <td>2.0</td>\n",
       "      <td>110000.0</td>\n",
       "      <td>1.0</td>\n",
       "      <td>137.0</td>\n",
       "      <td>...</td>\n",
       "      <td>0</td>\n",
       "      <td>0</td>\n",
       "      <td>0</td>\n",
       "      <td>0</td>\n",
       "      <td>0</td>\n",
       "      <td>0</td>\n",
       "      <td>0</td>\n",
       "      <td>0</td>\n",
       "      <td>0</td>\n",
       "      <td>0</td>\n",
       "    </tr>\n",
       "    <tr>\n",
       "      <th>1</th>\n",
       "      <td>1</td>\n",
       "      <td>18000.0</td>\n",
       "      <td>5</td>\n",
       "      <td>18.49</td>\n",
       "      <td>461.90</td>\n",
       "      <td>219843.0</td>\n",
       "      <td>5.0</td>\n",
       "      <td>46000.0</td>\n",
       "      <td>0.0</td>\n",
       "      <td>156.0</td>\n",
       "      <td>...</td>\n",
       "      <td>0</td>\n",
       "      <td>0</td>\n",
       "      <td>0</td>\n",
       "      <td>0</td>\n",
       "      <td>0</td>\n",
       "      <td>0</td>\n",
       "      <td>0</td>\n",
       "      <td>0</td>\n",
       "      <td>0</td>\n",
       "      <td>0</td>\n",
       "    </tr>\n",
       "    <tr>\n",
       "      <th>2</th>\n",
       "      <td>2</td>\n",
       "      <td>12000.0</td>\n",
       "      <td>5</td>\n",
       "      <td>16.99</td>\n",
       "      <td>298.17</td>\n",
       "      <td>31698.0</td>\n",
       "      <td>8.0</td>\n",
       "      <td>74000.0</td>\n",
       "      <td>0.0</td>\n",
       "      <td>337.0</td>\n",
       "      <td>...</td>\n",
       "      <td>0</td>\n",
       "      <td>0</td>\n",
       "      <td>0</td>\n",
       "      <td>0</td>\n",
       "      <td>0</td>\n",
       "      <td>0</td>\n",
       "      <td>0</td>\n",
       "      <td>0</td>\n",
       "      <td>0</td>\n",
       "      <td>0</td>\n",
       "    </tr>\n",
       "    <tr>\n",
       "      <th>3</th>\n",
       "      <td>3</td>\n",
       "      <td>11000.0</td>\n",
       "      <td>3</td>\n",
       "      <td>7.26</td>\n",
       "      <td>340.96</td>\n",
       "      <td>46854.0</td>\n",
       "      <td>10.0</td>\n",
       "      <td>118000.0</td>\n",
       "      <td>0.0</td>\n",
       "      <td>148.0</td>\n",
       "      <td>...</td>\n",
       "      <td>0</td>\n",
       "      <td>0</td>\n",
       "      <td>0</td>\n",
       "      <td>0</td>\n",
       "      <td>0</td>\n",
       "      <td>0</td>\n",
       "      <td>0</td>\n",
       "      <td>0</td>\n",
       "      <td>0</td>\n",
       "      <td>0</td>\n",
       "    </tr>\n",
       "    <tr>\n",
       "      <th>4</th>\n",
       "      <td>4</td>\n",
       "      <td>3000.0</td>\n",
       "      <td>3</td>\n",
       "      <td>12.99</td>\n",
       "      <td>101.07</td>\n",
       "      <td>54.0</td>\n",
       "      <td>0.0</td>\n",
       "      <td>29000.0</td>\n",
       "      <td>0.0</td>\n",
       "      <td>301.0</td>\n",
       "      <td>...</td>\n",
       "      <td>0</td>\n",
       "      <td>0</td>\n",
       "      <td>0</td>\n",
       "      <td>0</td>\n",
       "      <td>0</td>\n",
       "      <td>0</td>\n",
       "      <td>0</td>\n",
       "      <td>0</td>\n",
       "      <td>0</td>\n",
       "      <td>0</td>\n",
       "    </tr>\n",
       "  </tbody>\n",
       "</table>\n",
       "<p>5 rows × 151 columns</p>\n",
       "</div>"
      ],
      "text/plain": [
       "   id  loanAmnt  term  interestRate  installment  employmentTitle  \\\n",
       "0   0   35000.0     5         19.52       917.97            320.0   \n",
       "1   1   18000.0     5         18.49       461.90         219843.0   \n",
       "2   2   12000.0     5         16.99       298.17          31698.0   \n",
       "3   3   11000.0     3          7.26       340.96          46854.0   \n",
       "4   4    3000.0     3         12.99       101.07             54.0   \n",
       "\n",
       "   employmentLength  annualIncome  isDefault  postCode  ...  regionCode_41  \\\n",
       "0               2.0      110000.0        1.0     137.0  ...              0   \n",
       "1               5.0       46000.0        0.0     156.0  ...              0   \n",
       "2               8.0       74000.0        0.0     337.0  ...              0   \n",
       "3              10.0      118000.0        0.0     148.0  ...              0   \n",
       "4               0.0       29000.0        0.0     301.0  ...              0   \n",
       "\n",
       "   regionCode_42  regionCode_43  regionCode_44  regionCode_45  regionCode_46  \\\n",
       "0              0              0              0              0              0   \n",
       "1              0              0              0              0              0   \n",
       "2              0              0              0              0              0   \n",
       "3              0              0              0              0              0   \n",
       "4              0              0              0              0              0   \n",
       "\n",
       "   regionCode_47  regionCode_48  regionCode_49  regionCode_50  \n",
       "0              0              0              0              0  \n",
       "1              0              0              0              0  \n",
       "2              0              0              0              0  \n",
       "3              0              0              0              0  \n",
       "4              0              0              0              0  \n",
       "\n",
       "[5 rows x 151 columns]"
      ]
     },
     "execution_count": 47,
     "metadata": {},
     "output_type": "execute_result"
    }
   ],
   "source": [
    "data_tmp.head()"
   ]
  },
  {
   "cell_type": "code",
   "execution_count": 48,
   "metadata": {},
   "outputs": [
    {
     "data": {
      "text/plain": [
       "(1000000, 151)"
      ]
     },
     "execution_count": 48,
     "metadata": {},
     "output_type": "execute_result"
    }
   ],
   "source": [
    "data_tmp.shape"
   ]
  },
  {
   "cell_type": "code",
   "execution_count": 49,
   "metadata": {},
   "outputs": [],
   "source": [
    "# 高维类别特征需要进行转换\n",
    "for f in ['employmentTitle', 'postCode', 'title']:\n",
    "    data_tmp[f+'_cnts'] = data_tmp.groupby([f])['id'].transform('count')\n",
    "    data_tmp[f+'_rank'] = data_tmp.groupby([f])['id'].rank(ascending=False).astype(int)\n",
    "    del data_tmp[f]"
   ]
  },
  {
   "cell_type": "code",
   "execution_count": 50,
   "metadata": {},
   "outputs": [
    {
     "data": {
      "text/plain": [
       "(1000000, 154)"
      ]
     },
     "execution_count": 50,
     "metadata": {},
     "output_type": "execute_result"
    }
   ],
   "source": [
    "data_tmp.shape"
   ]
  },
  {
   "cell_type": "markdown",
   "metadata": {},
   "source": [
    "## 数据分桶"
   ]
  },
  {
   "cell_type": "markdown",
   "metadata": {},
   "source": [
    "固定宽度分箱"
   ]
  },
  {
   "cell_type": "code",
   "execution_count": 51,
   "metadata": {},
   "outputs": [],
   "source": [
    "# 通过除法映射到间隔均匀的分箱中，每个分箱的取值范围都是loanAmnt/1000\n",
    "data_tmp['loanAmnt_bin1'] = np.floor_divide(data_tmp['loanAmnt'], 1000)"
   ]
  },
  {
   "cell_type": "code",
   "execution_count": 52,
   "metadata": {},
   "outputs": [
    {
     "data": {
      "text/plain": [
       "(1000000, 155)"
      ]
     },
     "execution_count": 52,
     "metadata": {},
     "output_type": "execute_result"
    }
   ],
   "source": [
    "data_tmp.shape"
   ]
  },
  {
   "cell_type": "markdown",
   "metadata": {},
   "source": [
    "分位数分箱"
   ]
  },
  {
   "cell_type": "code",
   "execution_count": 53,
   "metadata": {},
   "outputs": [],
   "source": [
    "data_tmp['loanAmnt_bin3'] = pd.qcut(data_tmp['loanAmnt'], 10, labels=False)"
   ]
  },
  {
   "cell_type": "markdown",
   "metadata": {},
   "source": [
    "# 训练数据/测试数据准备"
   ]
  },
  {
   "cell_type": "markdown",
   "metadata": {},
   "source": [
    "# 模型训练"
   ]
  },
  {
   "cell_type": "code",
   "execution_count": 54,
   "metadata": {},
   "outputs": [
    {
     "data": {
      "text/plain": [
       "174"
      ]
     },
     "execution_count": 54,
     "metadata": {},
     "output_type": "execute_result"
    }
   ],
   "source": [
    "gc.collect()"
   ]
  },
  {
   "cell_type": "code",
   "execution_count": 55,
   "metadata": {},
   "outputs": [
    {
     "name": "stdout",
     "output_type": "stream",
     "text": [
      "Memory usage of dataframe is 466000128.00 MB\n",
      "Memory usage after optimization is: 322000128.00 MB\n",
      "Decreased by 30.9%\n"
     ]
    }
   ],
   "source": [
    "data = reduce_mem_usage(data_tmp)"
   ]
  },
  {
   "cell_type": "code",
   "execution_count": 56,
   "metadata": {},
   "outputs": [
    {
     "data": {
      "text/plain": [
       "0"
      ]
     },
     "execution_count": 56,
     "metadata": {},
     "output_type": "execute_result"
    }
   ],
   "source": [
    "gc.collect()"
   ]
  },
  {
   "cell_type": "code",
   "execution_count": 57,
   "metadata": {},
   "outputs": [],
   "source": [
    "features = [f for f in data.columns if f not in ['id','issueDate','isDefault']]\n",
    "\n",
    "train = data[data.isDefault.notnull()].reset_index(drop=True)\n",
    "test = data[data.isDefault.isnull()].reset_index(drop=True)\n",
    "\n",
    "x_train = train[features]\n",
    "x_test = test[features]\n",
    "\n",
    "y_train = train['isDefault']"
   ]
  },
  {
   "cell_type": "code",
   "execution_count": 58,
   "metadata": {},
   "outputs": [],
   "source": [
    "# 5折交叉验证\n",
    "folds = 5\n",
    "seed = 2020\n",
    "kf = KFold(n_splits=folds, shuffle=True, random_state=seed)"
   ]
  },
  {
   "cell_type": "code",
   "execution_count": 59,
   "metadata": {},
   "outputs": [
    {
     "name": "stdout",
     "output_type": "stream",
     "text": [
      "[LightGBM] [Warning] Unknown parameter: silent\n",
      "Training until validation scores don't improve for 200 rounds\n",
      "Early stopping, best iteration is:\n",
      "[389]\tvalid_0's auc: 0.73465\n"
     ]
    }
   ],
   "source": [
    "\"\"\"对训练集数据进行划分，分成训练集和验证集，并进行相应的操作\"\"\"\n",
    "from sklearn.model_selection import train_test_split\n",
    "import lightgbm as lgb\n",
    "# 数据集划分\n",
    "X_train_split, X_val, y_train_split, y_val = train_test_split(x_train, y_train, test_size=0.2)\n",
    "train_matrix = lgb.Dataset(X_train_split, label=y_train_split)\n",
    "valid_matrix = lgb.Dataset(X_val, label=y_val)\n",
    "\n",
    "params = {\n",
    "            'boosting_type': 'gbdt',\n",
    "            'objective': 'binary',\n",
    "            'learning_rate': 0.1,\n",
    "            'metric': 'auc',\n",
    "            'min_child_weight': 1e-3,\n",
    "            'num_leaves': 31,\n",
    "            'max_depth': -1,\n",
    "            'reg_lambda': 0,\n",
    "            'reg_alpha': 0,\n",
    "            'feature_fraction': 1,\n",
    "            'bagging_fraction': 1,\n",
    "            'bagging_freq': 0,\n",
    "            'seed': 2020,\n",
    "            'nthread': 8,\n",
    "            'silent': True,\n",
    "            'verbose': -1,\n",
    "}\n",
    "\n",
    "\"\"\"使用训练集数据进行模型训练\"\"\"\n",
    "model = lgb.train(params, train_set=train_matrix, valid_sets=valid_matrix, num_boost_round=20000, verbose_eval=1000, early_stopping_rounds=200)"
   ]
  },
  {
   "cell_type": "code",
   "execution_count": 60,
   "metadata": {},
   "outputs": [],
   "source": [
    "# 划分训练集和测试集\n",
    "X_train, X_val, y_train, y_val = train_test_split(x_train, y_train, test_size=0.2)"
   ]
  },
  {
   "cell_type": "code",
   "execution_count": 61,
   "metadata": {},
   "outputs": [],
   "source": [
    "from sklearn.preprocessing import StandardScaler\n",
    "\n",
    "sc = StandardScaler()\n",
    "## 估算训练数据中的mu和sigma\n",
    "sc.fit(X_train)\n",
    "## 使用训练数据中的mu和sigma对数据进行标准化\n",
    "X_train_std = sc.transform(X_train)\n",
    "X_test_std = sc.transform(x_test)\n",
    "X_val_std = sc.transform(X_val)"
   ]
  },
  {
   "cell_type": "markdown",
   "metadata": {},
   "source": [
    "# 逻辑回归"
   ]
  },
  {
   "cell_type": "code",
   "execution_count": null,
   "metadata": {},
   "outputs": [
    {
     "name": "stdout",
     "output_type": "stream",
     "text": [
      "0.80396875\n",
      "Class: [0. 1.]\n",
      "Coef: [[-8.09425413e-02  2.83650119e-01 -1.38102671e-01  2.09149952e-01\n",
      "  -3.60525621e-02 -1.34309732e-01  1.00767686e-01  4.96045519e-02\n",
      "  -5.85952496e-02 -5.87808469e-02  4.81488815e-02  1.11070699e-02\n",
      "  -4.11820108e-05 -8.00792180e-02  9.67329805e-03 -2.45377175e-01\n",
      "   1.74696220e-03 -2.21971791e-02 -2.56214672e-03  0.00000000e+00\n",
      "  -4.27513594e-03 -4.76871030e-02  5.45776769e-02  5.45776769e-02\n",
      "   2.42272858e-02  2.35555525e-02  1.11989852e-01 -3.18415235e-02\n",
      "   5.55517462e-02  6.93507283e-02 -2.95623568e-02 -3.64042248e-03\n",
      "  -1.78359745e-03 -1.72733483e-02  9.19803270e-02  1.52086359e-01\n",
      "   3.08344344e-01  4.34368817e-01  3.91880326e-01  3.07698966e-01\n",
      "   2.00800667e-01  1.10426503e-01  5.29391756e-02  7.62682624e-02\n",
      "   1.18978820e-01  1.71187624e-01  6.03849349e-02  8.20715730e-02\n",
      "   1.22686526e-01  1.52884010e-01  1.74332339e-01  1.40743131e-01\n",
      "   1.57359147e-01  1.67654396e-01  1.89073719e-01  1.95678593e-01\n",
      "   1.64928937e-01  1.71395730e-01  1.62780236e-01  1.66502044e-01\n",
      "   1.57414564e-01  1.36639404e-01  1.42306849e-01  1.34790953e-01\n",
      "   1.25651503e-01  1.29730029e-01  1.01157963e-01  9.66172745e-02\n",
      "   8.88630115e-02  8.17891856e-02  7.44874751e-02  5.68998058e-02\n",
      "   5.21423114e-02  4.98941761e-02  4.41789587e-02  4.28009887e-02\n",
      "   1.66222859e-01  5.01332833e-02  7.62772912e-04 -3.42290430e-04\n",
      "   9.86328680e-03  4.77871657e-02  3.84004421e-02  4.23678084e-02\n",
      "   1.09153513e-02  1.38279574e-02 -2.37065616e-02  2.48462008e-03\n",
      "  -5.10989177e-03  6.48918320e-03 -1.20150238e-02  1.79843684e-02\n",
      "   3.47904805e-03  5.59595663e-03 -1.54980267e-02  9.67774223e-03\n",
      "   2.36164712e-04 -2.21522359e-02 -2.43391501e-02 -6.34413688e-03\n",
      "  -4.00654533e-02 -1.51015342e-02 -6.63069450e-04 -2.79842006e-02\n",
      "  -4.99186863e-03 -8.68885713e-03  4.18506730e-03  2.38143360e-03\n",
      "   1.27792804e-02 -7.49941332e-03 -2.22718362e-02  3.94323138e-03\n",
      "   1.50518703e-02 -4.96516054e-02 -2.33861295e-03  2.16890361e-02\n",
      "   5.76085265e-03 -5.37313676e-02 -2.66636582e-03  1.06572480e-02\n",
      "  -2.31338505e-02 -1.06290962e-02 -9.67434336e-03 -1.59446672e-02\n",
      "  -2.04932567e-02  9.04261382e-03 -4.35384757e-03 -3.40468962e-04\n",
      "  -3.08577140e-02  4.95859094e-03 -5.47312477e-02 -2.65361496e-02\n",
      "   1.84604634e-02  3.83987449e-03 -2.44640199e-02 -1.30391260e-02\n",
      "  -1.10380573e-02  1.86666413e-02  2.43340240e-03  1.61214345e-02\n",
      "  -1.98675358e-02 -7.55624916e-03 -2.00725176e-02 -1.22403229e-03\n",
      "  -1.15469249e-02  2.05807016e-03  9.31416369e-02  7.04242076e-03\n",
      "  -2.84550029e-02  5.94078890e-03 -8.76547865e-03 -3.78123593e-03\n",
      "  -9.34251497e-02  8.64187808e-02]]\n",
      "intercept [-1.60682677]\n",
      "n_iter [82]\n"
     ]
    }
   ],
   "source": [
    "from sklearn.linear_model import LogisticRegression\n",
    "\n",
    "lr = LogisticRegression(C=100.0,random_state=1)\n",
    "lr.fit(X_train_std,y_train)\n",
    "print(lr.score(X_val_std,y_val))\n",
    "print(\"Class:\",lr.classes_)\n",
    "print(\"Coef:\",lr.coef_)\n",
    "print(\"intercept\",lr.intercept_)\n",
    "print(\"n_iter\",lr.n_iter_)"
   ]
  },
  {
   "cell_type": "markdown",
   "metadata": {},
   "source": [
    "# SVM"
   ]
  },
  {
   "cell_type": "code",
   "execution_count": null,
   "metadata": {},
   "outputs": [],
   "source": [
    "from sklearn.svm import SVC\n",
    "## 使用核函数对非线性分类问题建模(gamma=0.20)\n",
    "svm = SVC(kernel='rbf',random_state=1,gamma=0.20,C=1.0)    ##较小的gamma有较松的决策边界\n",
    "svm.fit(X_train_std,y_train)\n",
    "print(svm.score(X_val_std,y_val))"
   ]
  },
  {
   "cell_type": "markdown",
   "metadata": {},
   "source": [
    "# 决策树"
   ]
  },
  {
   "cell_type": "code",
   "execution_count": 88,
   "metadata": {},
   "outputs": [
    {
     "name": "stdout",
     "output_type": "stream",
     "text": [
      "0.80235\n"
     ]
    }
   ],
   "source": [
    "## 决策树分类器\n",
    "from sklearn.tree import DecisionTreeClassifier\n",
    "tree = DecisionTreeClassifier(criterion='gini',max_depth=4,random_state=1)\n",
    "tree.fit(X_train_std,y_train)\n",
    "print(tree.score(X_val_std,y_val))"
   ]
  },
  {
   "cell_type": "markdown",
   "metadata": {},
   "source": [
    "# 随机森林"
   ]
  },
  {
   "cell_type": "code",
   "execution_count": null,
   "metadata": {},
   "outputs": [
    {
     "name": "stderr",
     "output_type": "stream",
     "text": [
      "[Parallel(n_jobs=2)]: Using backend ThreadingBackend with 2 concurrent workers.\n",
      "[Parallel(n_jobs=2)]: Done  25 out of  25 | elapsed:   43.1s finished\n",
      "[Parallel(n_jobs=2)]: Using backend ThreadingBackend with 2 concurrent workers.\n"
     ]
    },
    {
     "name": "stdout",
     "output_type": "stream",
     "text": [
      "0.80189375\n"
     ]
    },
    {
     "name": "stderr",
     "output_type": "stream",
     "text": [
      "[Parallel(n_jobs=2)]: Done  25 out of  25 | elapsed:    0.9s finished\n"
     ]
    }
   ],
   "source": [
    "## 使用随机森林分类器\n",
    "from sklearn.ensemble import RandomForestClassifier\n",
    "\n",
    "forest = RandomForestClassifier(criterion='gini',n_estimators=25,random_state=1,n_jobs=2,verbose=1)\n",
    "forest.fit(X_train_std,y_train)\n",
    "print(forest.score(X_val_std,y_val))"
   ]
  },
  {
   "cell_type": "markdown",
   "metadata": {},
   "source": [
    "# KNN"
   ]
  },
  {
   "cell_type": "code",
   "execution_count": null,
   "metadata": {},
   "outputs": [],
   "source": [
    "## 使用KNN分类器\n",
    "from sklearn.neighbors import KNeighborsClassifier\n",
    "\n",
    "knn = KNeighborsClassifier(n_neighbors=2,p=2,metric=\"minkowski\")\n",
    "knn.fit(X_train_std,y_train)\n",
    "print(knn.score(X_val_std,y_val))"
   ]
  },
  {
   "cell_type": "code",
   "execution_count": null,
   "metadata": {},
   "outputs": [],
   "source": []
  }
 ],
 "metadata": {
  "kernelspec": {
   "display_name": "Python 3",
   "language": "python",
   "name": "python3"
  },
  "language_info": {
   "codemirror_mode": {
    "name": "ipython",
    "version": 3
   },
   "file_extension": ".py",
   "mimetype": "text/x-python",
   "name": "python",
   "nbconvert_exporter": "python",
   "pygments_lexer": "ipython3",
   "version": "3.6.4"
  }
 },
 "nbformat": 4,
 "nbformat_minor": 2
}
